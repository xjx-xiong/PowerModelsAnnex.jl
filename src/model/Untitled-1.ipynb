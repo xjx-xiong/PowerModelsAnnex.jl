{
 "cells": [
  {
   "cell_type": "code",
   "execution_count": 1,
   "metadata": {},
   "outputs": [],
   "source": [
    "using PowerModels\n",
    "using Ipopt\n",
    "using JuMP"
   ]
  },
  {
   "cell_type": "code",
   "execution_count": 30,
   "metadata": {},
   "outputs": [
    {
     "name": "stdout",
     "output_type": "stream",
     "text": [
      "\u001b[35m[warn | PowerModels]: this code only supports angmin values in -90 deg. to 90 deg., tightening the value on branch 4 from -360.0 to -60.0 deg.\u001b[39m\n"
     ]
    },
    {
     "name": "stdout",
     "output_type": "stream",
     "text": [
      "\u001b[35m[warn | PowerModels]: this code only supports angmax values in -90 deg. to 90 deg., tightening the value on branch 4 from 360.0 to 60.0 deg.\u001b[39m\n"
     ]
    },
    {
     "name": "stdout",
     "output_type": "stream",
     "text": [
      "\u001b[35m[warn | PowerModels]: this code only supports angmin values in -90 deg. to 90 deg., tightening the value on branch 1 from -360.0 to -60.0 deg.\u001b[39m\n"
     ]
    },
    {
     "name": "stdout",
     "output_type": "stream",
     "text": [
      "\u001b[35m[warn | PowerModels]: this code only supports angmax values in -90 deg. to 90 deg., tightening the value on branch 1 from 360.0 to 60.0 deg.\u001b[39m\n"
     ]
    },
    {
     "name": "stdout",
     "output_type": "stream",
     "text": [
      "\u001b[35m[warn | PowerModels]: this code only supports angmin values in -90 deg. to 90 deg., tightening the value on branch 5 from -360.0 to -60.0 deg.\u001b[39m\n"
     ]
    },
    {
     "name": "stdout",
     "output_type": "stream",
     "text": [
      "\u001b[35m[warn | PowerModels]: this code only supports angmax values in -90 deg. to 90 deg., tightening the value on branch 5 from 360.0 to 60.0 deg.\u001b[39m\n"
     ]
    },
    {
     "name": "stdout",
     "output_type": "stream",
     "text": [
      "\u001b[35m[warn | PowerModels]: this code only supports angmin values in -90 deg. to 90 deg., tightening the value on branch 2 from -360.0 to -60.0 deg.\u001b[39m\n"
     ]
    },
    {
     "name": "stdout",
     "output_type": "stream",
     "text": [
      "\u001b[35m[warn | PowerModels]: this code only supports angmax values in -90 deg. to 90 deg., tightening the value on branch 2 from 360.0 to 60.0 deg.\u001b[39m\n"
     ]
    },
    {
     "name": "stdout",
     "output_type": "stream",
     "text": [
      "\u001b[35m[warn | PowerModels]: this code only supports angmin values in -90 deg. to 90 deg., tightening the value on branch 6 from -360.0 to -60.0 deg.\u001b[39m\n"
     ]
    },
    {
     "name": "stdout",
     "output_type": "stream",
     "text": [
      "\u001b[35m[warn | PowerModels]: this code only supports angmax values in -90 deg. to 90 deg., tightening the value on branch 6 from 360.0 to 60.0 deg.\u001b[39m\n"
     ]
    },
    {
     "name": "stdout",
     "output_type": "stream",
     "text": [
      "\u001b[35m[warn | PowerModels]: this code only supports angmin values in -90 deg. to 90 deg., tightening the value on branch 3 from -360.0 to -60.0 deg.\u001b[39m\n"
     ]
    },
    {
     "name": "stdout",
     "output_type": "stream",
     "text": [
      "\u001b[35m[warn | PowerModels]: this code only supports angmax values in -90 deg. to 90 deg., tightening the value on branch 3 from 360.0 to 60.0 deg.\u001b[39m\n"
     ]
    },
    {
     "data": {
      "text/plain": [
       "Dict{String, Any} with 13 entries:\n",
       "  \"bus\"            => Dict{String, Any}(\"4\"=>Dict{String, Any}(\"zone\"=>1, \"bus_…\n",
       "  \"source_type\"    => \"matpower\"\n",
       "  \"name\"           => \"case5\"\n",
       "  \"dcline\"         => Dict{String, Any}()\n",
       "  \"source_version\" => \"2\"\n",
       "  \"gen\"            => Dict{String, Any}(\"4\"=>Dict{String, Any}(\"ncost\"=>2, \"qc1…\n",
       "  \"branch\"         => Dict{String, Any}(\"4\"=>Dict{String, Any}(\"br_r\"=>0.00108,…\n",
       "  \"storage\"        => Dict{String, Any}()\n",
       "  \"switch\"         => Dict{String, Any}()\n",
       "  \"baseMVA\"        => 100\n",
       "  \"per_unit\"       => true\n",
       "  \"shunt\"          => Dict{String, Any}()\n",
       "  \"load\"           => Dict{String, Any}(\"1\"=>Dict{String, Any}(\"source_id\"=>Any…"
      ]
     },
     "metadata": {},
     "output_type": "display_data"
    }
   ],
   "source": [
    "file_name = \"case5.m\"\n",
    "data = PowerModels.parse_file(file_name)"
   ]
  },
  {
   "cell_type": "code",
   "execution_count": 31,
   "metadata": {},
   "outputs": [
    {
     "name": "stdout",
     "output_type": "stream",
     "text": [
      "\u001b[1mMetadata\u001b[0m\n",
      "  baseMVA: 100\n",
      "  name: case5\n",
      "  per_unit: true\n",
      "  source_type: matpower\n",
      "  source_version: 2\n",
      "\n",
      "\u001b[1mTable Counts\u001b[0m\n",
      "  bus: 5\n",
      "  load: 3\n",
      "  shunt: 0\n",
      "  gen: 5\n",
      "  storage: 0\n",
      "  switch: 0\n",
      "  branch: 6\n",
      "  dcline: 0\n",
      "\n",
      "\n",
      "\u001b[1mTable: bus\u001b[0m\n",
      "         bus_i, bus_type"
     ]
    },
    {
     "name": "stdout",
     "output_type": "stream",
     "text": [
      "\n",
      "      1:     1,        2\n",
      "      2:     2,        1\n",
      "      3:     3,        2\n",
      "      4:     4,        3\n",
      "      5:     5,        2\n",
      "\n",
      "  default values:\n",
      "    base_kv: 230.000"
     ]
    },
    {
     "name": "stdout",
     "output_type": "stream",
     "text": [
      "\n",
      "    vm: 1.000\n",
      "    va: 0.000\n",
      "    vmin: 0.900\n",
      "    vmax: 1.100\n",
      "    area: 1\n",
      "    source_id: [(2)]\n",
      "    zone: 1\n",
      "\n",
      "\n",
      "\u001b[1mTable: load\u001b[0m\n",
      "         load_bus,    pd,    qd\n",
      "      1:        2, 3.000, 0.986\n",
      "      2:        3, 3.000, 0.986\n",
      "      3:        4, 4.000, 1.315\n",
      "\n",
      "  default values:\n",
      "    status: 1\n",
      "    source_id: [(2)]\n",
      "\n",
      "\n",
      "\u001b[1mTable: gen\u001b[0m\n",
      "         gen_bus,    pg,  pmax,   qmin,  qmax\n",
      "      1:       1, 0.400, 0.400, -0.300, 0.300\n",
      "      2:       1, 1.700, 1.700, -1.275, 1.275\n",
      "      3:       3, 3.235, 5.200, -3.900, 3.900\n",
      "      4:       4, 0.000, 2.000, -1.500, 1.500\n",
      "      5:       5, 4.665, 6.000, -4.500, 4.500\n",
      "\n",
      "  default values:\n",
      "    qg: 0.000\n",
      "    vg: 1.000\n",
      "    mbase: 100.000\n",
      "    pmin: 0.000\n",
      "    gen_status: 1\n",
      "    model: 2\n",
      "    ncost: 2\n",
      "    cost: [(2)]\n",
      "    startup: 0.000\n",
      "    shutdown: 0.000\n",
      "    apf: 0.000\n",
      "    pc1: 0.000\n",
      "    pc2: 0.000\n",
      "    qc1max: 0.000\n",
      "    qc1min: 0.000\n",
      "    qc2max: 0.000\n",
      "    qc2min: 0.000\n",
      "    ramp_10: 0.000\n",
      "    ramp_30: 0.000\n",
      "    ramp_agc: 0.000\n",
      "    ramp_q: 0.000\n",
      "    source_id: [(2)]\n",
      "\n",
      "\n",
      "\u001b[1mTable: branch\u001b[0m\n",
      "         f_bus, t_bus,  br_r,  br_x,  b_fr,  b_to, rate_a, rate_b, rate_c\n",
      "      1:     1,     2, 0.003, 0.028, 0.004, 0.004,  4.000,  4.000,  4.000\n",
      "      2:     1,     4, 0.003, 0.030, 0.003, 0.003,     --,     --,     --\n",
      "      3:     1,     5, 0.001, 0.006, 0.016, 0.016,     --,     --,     --\n",
      "      4:     2,     3, 0.001, 0.011, 0.009, 0.009,     --,     --,     --\n",
      "      5:     3,     4, 0.003, 0.030, 0.003, 0.003,     --,     --,     --\n",
      "      6:     4,     5, 0.003, 0.030, 0.003, 0.003,  2.400,  2.400,  2.400\n",
      "\n",
      "  default values:\n",
      "    g_fr: 0.000\n",
      "    g_to: 0.000\n",
      "    tap: 1.000\n",
      "    shift: 0.000\n",
      "    br_status: 1\n",
      "    angmax: 1.047\n",
      "    angmin: -1.047\n",
      "    source_id: [(2)]\n",
      "    transformer: false\n"
     ]
    }
   ],
   "source": [
    "PowerModels.print_summary(data)"
   ]
  },
  {
   "attachments": {},
   "cell_type": "markdown",
   "metadata": {},
   "source": [
    "some branch may not have themal limit (rate_a), need to add reasonable thermal limit"
   ]
  },
  {
   "cell_type": "code",
   "execution_count": 32,
   "metadata": {},
   "outputs": [
    {
     "name": "stdout",
     "output_type": "stream",
     "text": [
      "\u001b[35m[warn | PowerModels]: this code only supports positive rate_a values, changing the value on branch 4 to 11148.1255\u001b[39m\n"
     ]
    },
    {
     "name": "stdout",
     "output_type": "stream",
     "text": [
      "\u001b[35m[warn | PowerModels]: this code only supports positive rate_a values, changing the value on branch 5 to 4053.8638\u001b[39m\n"
     ]
    },
    {
     "name": "stdout",
     "output_type": "stream",
     "text": [
      "\u001b[35m[warn | PowerModels]: this code only supports positive rate_a values, changing the value on branch 2 to 3960.5183\u001b[39m\n"
     ]
    },
    {
     "name": "stdout",
     "output_type": "stream",
     "text": [
      "\u001b[35m[warn | PowerModels]: this code only supports positive rate_a values, changing the value on branch 3 to 18812.4618\u001b[39m\n"
     ]
    }
   ],
   "source": [
    "PowerModels.calc_thermal_limits!(data)"
   ]
  },
  {
   "attachments": {},
   "cell_type": "markdown",
   "metadata": {},
   "source": [
    "cost for generator only have 2 \n",
    "\n",
    "Add zeros to turn linear objective functions into quadratic ones, so that additional parameter checks are not required"
   ]
  },
  {
   "cell_type": "code",
   "execution_count": 33,
   "metadata": {},
   "outputs": [
    {
     "name": "stdout",
     "output_type": "stream",
     "text": [
      "\u001b[32m[info | PowerModels]: updated generator 4 cost function with order 2 to a function of order 3: [0.0, 4000.0, 0.0]\u001b[39m\n"
     ]
    },
    {
     "name": "stdout",
     "output_type": "stream",
     "text": [
      "\u001b[32m[info | PowerModels]: updated generator 1 cost function with order 2 to a function of order 3: [0.0, 1400.0, 0.0]\u001b[39m\n"
     ]
    },
    {
     "name": "stdout",
     "output_type": "stream",
     "text": [
      "\u001b[32m[info | PowerModels]: updated generator 5 cost function with order 2 to a function of order 3: [0.0, 1000.0, 0.0]\u001b[39m\n"
     ]
    },
    {
     "name": "stdout",
     "output_type": "stream",
     "text": [
      "\u001b[32m[info | PowerModels]: updated generator 2 cost function with order 2 to a function of order 3: [0.0, 1500.0, 0.0]\u001b[39m\n"
     ]
    },
    {
     "name": "stdout",
     "output_type": "stream",
     "text": [
      "\u001b[32m[info | PowerModels]: updated generator 3 cost function with order 2 to a function of order 3: [0.0, 3000.0, 0.0]\u001b[39m\n"
     ]
    }
   ],
   "source": [
    "PowerModels.standardize_cost_terms!(data, order=2)"
   ]
  },
  {
   "cell_type": "code",
   "execution_count": null,
   "metadata": {},
   "outputs": [],
   "source": [
    "data[\"gen\"][\"1\"]"
   ]
  },
  {
   "attachments": {},
   "cell_type": "markdown",
   "metadata": {},
   "source": [
    "use build_ref to filter out inactive components\n",
    "\n",
    "note: ref contains all the relevant system parameters needed to build the OPF model\n",
    "\n",
    "When we introduce constraints and variable bounds below, we use the parameters in ref."
   ]
  },
  {
   "cell_type": "code",
   "execution_count": 34,
   "metadata": {},
   "outputs": [
    {
     "data": {
      "text/plain": [
       "Dict{Symbol, Any} with 31 entries:\n",
       "  :arcs_dc      => Tuple{Int64, Any, Any}[]\n",
       "  :arcs_to      => [(5, 4, 3), (4, 3, 2), (6, 5, 4), (2, 4, 1), (3, 5, 1), (1, …\n",
       "  :bus_gens     => Dict(5=>[5], 4=>[4], 2=>[], 3=>[3], 1=>[2, 1])\n",
       "  :switch       => Dict{Int64, Any}()\n",
       "  :bus_arcs     => Dict(5=>[(6, 5, 4), (3, 5, 1)], 4=>[(6, 4, 5), (5, 4, 3), (2…\n",
       "  :buspairs     => Dict{Tuple{Int64, Int64}, Dict{String, Real}}((4, 5)=>Dict(\"…\n",
       "  :bus          => Dict{Int64, Any}(5=>Dict{String, Any}(\"zone\"=>1, \"bus_i\"=>5,…\n",
       "  :dcline       => Dict{Int64, Any}()\n",
       "  :arcs_to_dc   => Tuple{Int64, Any, Any}[]\n",
       "  :arcs_to_sw   => Tuple{Int64, Any, Any}[]\n",
       "  :storage      => Dict{Int64, Any}()\n",
       "  :bus_loads    => Dict(5=>[], 4=>[3], 2=>[1], 3=>[2], 1=>[])\n",
       "  :branch       => Dict{Int64, Any}(5=>Dict{String, Any}(\"br_r\"=>0.00297, \"rate…\n",
       "  :gen          => Dict{Int64, Any}(5=>Dict{String, Any}(\"ncost\"=>3, \"qc1max\"=>…\n",
       "  :source_type  => \"matpower\"\n",
       "  :name         => \"case5\"\n",
       "  :shunt        => Dict{Int64, Any}()\n",
       "  :load         => Dict{Int64, Any}(2=>Dict{String, Any}(\"source_id\"=>Any[\"bus\"…\n",
       "  :arcs_from_sw => Tuple{Int64, Any, Any}[]\n",
       "  ⋮             => ⋮"
      ]
     },
     "metadata": {},
     "output_type": "display_data"
    }
   ],
   "source": [
    "ref = PowerModels.build_ref(data)[:it][:pm][:nw][0]"
   ]
  },
  {
   "cell_type": "code",
   "execution_count": null,
   "metadata": {},
   "outputs": [],
   "source": [
    "ref[:load][1]"
   ]
  },
  {
   "cell_type": "code",
   "execution_count": null,
   "metadata": {},
   "outputs": [],
   "source": [
    "ref[:bus_loads]"
   ]
  },
  {
   "cell_type": "code",
   "execution_count": null,
   "metadata": {},
   "outputs": [],
   "source": [
    "ref[:branch][5][\"rate_a\"]"
   ]
  },
  {
   "cell_type": "code",
   "execution_count": null,
   "metadata": {},
   "outputs": [],
   "source": [
    "ref[:arcs]"
   ]
  },
  {
   "cell_type": "code",
   "execution_count": null,
   "metadata": {},
   "outputs": [],
   "source": [
    "ref[:branch][1]"
   ]
  },
  {
   "attachments": {},
   "cell_type": "markdown",
   "metadata": {},
   "source": [
    "# Model"
   ]
  },
  {
   "cell_type": "code",
   "execution_count": 35,
   "metadata": {},
   "outputs": [],
   "source": [
    "model = Model(Ipopt.Optimizer)\n",
    "\n",
    "set_optimizer_attribute(model, \"print_level\", 0)"
   ]
  },
  {
   "attachments": {},
   "cell_type": "markdown",
   "metadata": {},
   "source": [
    "## Variable\n",
    "\n",
    "use polar coordinates for voltage, rectangular coordinates for admittance matrix\n",
    "\n",
    "- for each bus: voltage angle, voltage magnitude\n",
    "- for each generator: pg, qg\n",
    "- for each branch: p, g"
   ]
  },
  {
   "cell_type": "code",
   "execution_count": 36,
   "metadata": {},
   "outputs": [
    {
     "data": {
      "text/plain": [
       "1-dimensional DenseAxisArray{VariableRef,1,...} with index sets:\n",
       "    Dimension 1, [(5, 3, 4), (4, 2, 3), (6, 4, 5), (2, 1, 4), (3, 1, 5), (1, 1, 2), (5, 4, 3), (4, 3, 2), (6, 5, 4), (2, 4, 1), (3, 5, 1), (1, 2, 1)]\n",
       "And data, a 12-element Vector{VariableRef}:\n",
       " q[(5, 3, 4)]\n",
       " q[(4, 2, 3)]\n",
       " q[(6, 4, 5)]\n",
       " q[(2, 1, 4)]\n",
       " q[(3, 1, 5)]\n",
       " q[(1, 1, 2)]\n",
       " q[(5, 4, 3)]\n",
       " q[(4, 3, 2)]\n",
       " q[(6, 5, 4)]\n",
       " q[(2, 4, 1)]\n",
       " q[(3, 5, 1)]\n",
       " q[(1, 2, 1)]"
      ]
     },
     "metadata": {},
     "output_type": "display_data"
    }
   ],
   "source": [
    "@variable(model, va[i in keys(ref[:bus])], start=0.0)\n",
    "@variable(model, ref[:bus][i][\"vmin\"] <= vm[i in keys(ref[:bus])] <= ref[:bus][i][\"vmax\"], start=1.0)\n",
    "@variable(model, ref[:gen][i][\"pmin\"] <= pg[i in keys(ref[:gen])] <= ref[:gen][i][\"pmax\"])\n",
    "@variable(model, ref[:gen][i][\"qmin\"] <= qg[i in keys(ref[:gen])] <= ref[:gen][i][\"qmax\"])\n",
    "\n",
    "@variable(model, -ref[:branch][l][\"rate_a\"] <= p[(l,i,j) in ref[:arcs]] <= ref[:branch][l][\"rate_a\"])\n",
    "@variable(model, -ref[:branch][l][\"rate_a\"] <= q[(l,i,j) in ref[:arcs]] <= ref[:branch][l][\"rate_a\"])"
   ]
  },
  {
   "attachments": {},
   "cell_type": "markdown",
   "metadata": {},
   "source": [
    "## Objecive"
   ]
  },
  {
   "cell_type": "code",
   "execution_count": 37,
   "metadata": {},
   "outputs": [
    {
     "data": {
      "text/latex": [
       "$$ 1000 pg_{5} + 4000 pg_{4} + 1500 pg_{2} + 3000 pg_{3} + 1400 pg_{1} $$"
      ],
      "text/plain": [
       "1000 pg[5] + 4000 pg[4] + 1500 pg[2] + 3000 pg[3] + 1400 pg[1]"
      ]
     },
     "metadata": {},
     "output_type": "display_data"
    }
   ],
   "source": [
    "@objective(model, Min,\n",
    "    sum(gen[\"cost\"][1]*pg[i]^2 + gen[\"cost\"][2]*pg[i] + gen[\"cost\"][3] for (i,gen) in ref[:gen])\n",
    ")"
   ]
  },
  {
   "attachments": {},
   "cell_type": "markdown",
   "metadata": {},
   "source": [
    "## Constraints"
   ]
  },
  {
   "cell_type": "code",
   "execution_count": 38,
   "metadata": {},
   "outputs": [
    {
     "data": {
      "text/plain": [
       "Dict{Int64, Any} with 1 entry:\n",
       "  4 => Dict{String, Any}(\"zone\"=>1, \"bus_i\"=>4, \"bus_type\"=>3, \"vmax\"=>1.1, \"so…"
      ]
     },
     "metadata": {},
     "output_type": "display_data"
    }
   ],
   "source": [
    "ref[:ref_buses]"
   ]
  },
  {
   "attachments": {},
   "cell_type": "markdown",
   "metadata": {},
   "source": [
    "### Fix the voltage angle to zero at the reference bus"
   ]
  },
  {
   "cell_type": "code",
   "execution_count": 39,
   "metadata": {},
   "outputs": [],
   "source": [
    "for (i,bus) in ref[:ref_buses]\n",
    "    @constraint(model, va[i] == 0)\n",
    "end"
   ]
  },
  {
   "attachments": {},
   "cell_type": "markdown",
   "metadata": {},
   "source": [
    "### Nodal power balance constraints"
   ]
  },
  {
   "attachments": {},
   "cell_type": "markdown",
   "metadata": {},
   "source": [
    "ref[:bus_loads] bus => list of loads_idx\n",
    "\n",
    "ref[:load] load_idx => load deltais"
   ]
  },
  {
   "cell_type": "code",
   "execution_count": 40,
   "metadata": {},
   "outputs": [
    {
     "data": {
      "text/plain": [
       "Dict{Int64, Vector{Tuple{Int64, Int64, Int64}}} with 5 entries:\n",
       "  5 => [(6, 5, 4), (3, 5, 1)]\n",
       "  4 => [(6, 4, 5), (5, 4, 3), (2, 4, 1)]\n",
       "  2 => [(4, 2, 3), (1, 2, 1)]\n",
       "  3 => [(5, 3, 4), (4, 3, 2)]\n",
       "  1 => [(2, 1, 4), (3, 1, 5), (1, 1, 2)]"
      ]
     },
     "metadata": {},
     "output_type": "display_data"
    }
   ],
   "source": [
    "ref[:bus_arcs]"
   ]
  },
  {
   "cell_type": "code",
   "execution_count": 41,
   "metadata": {},
   "outputs": [],
   "source": [
    "for (i,bus) in ref[:bus]\n",
    "    # Build a list of the loads and shunt elements connected to the bus i\n",
    "    bus_loads = [ref[:load][l] for l in ref[:bus_loads][i]]\n",
    "    bus_shunts = [ref[:shunt][s] for s in ref[:bus_shunts][i]]\n",
    "\n",
    "    # Active power balance at node i\n",
    "    @constraint(model, \n",
    "        sum(pg[g] for g in ref[:bus_gens][i]) - sum(load[\"pd\"] for load in bus_loads) ==\n",
    "        sum(p[a] for a in ref[:bus_arcs][i])  + sum(shunt[\"gs\"] for shunt in bus_shunts) * vm[i]^2\n",
    "    )\n",
    "\n",
    "    @constraint(model,\n",
    "        sum(qg[g] for g in ref[:bus_gens][i]) - sum(load[\"pd\"] for load in bus_loads) == \n",
    "        sum(q[a] for a in ref[:bus_arcs][i]) - sum(shunt[\"bs\"] for shunt in bus_shunts) * vm[i] ^2\n",
    "    )\n",
    "end"
   ]
  },
  {
   "attachments": {},
   "cell_type": "markdown",
   "metadata": {},
   "source": [
    "## Branch Flow constraints"
   ]
  },
  {
   "cell_type": "code",
   "execution_count": 42,
   "metadata": {},
   "outputs": [],
   "source": [
    "for (i, branch) in ref[:branch]\n",
    "    f_idx = (i, branch[\"f_bus\"], branch[\"t_bus\"])\n",
    "    t_idx = (i, branch[\"t_bus\"], branch[\"f_bus\"])\n",
    "\n",
    "    p_fr = p[f_idx]\n",
    "    q_fr = q[f_idx]\n",
    "    p_to = p[t_idx]\n",
    "    q_to = q[t_idx]\n",
    "\n",
    "    vm_fr = vm[branch[\"f_bus\"]]\n",
    "    vm_to = vm[branch[\"t_bus\"]]\n",
    "    va_fr = va[branch[\"f_bus\"]]\n",
    "    va_to = va[branch[\"t_bus\"]]\n",
    "\n",
    "    g, b = PowerModels.calc_branch_y(branch)\n",
    "    tr, ti = PowerModels.calc_branch_t(branch)\n",
    "    g_fr = branch[\"g_fr\"]\n",
    "    b_fr = branch[\"b_fr\"]\n",
    "    g_to = branch[\"g_to\"]\n",
    "    b_to = branch[\"b_to\"]\n",
    "    tm = branch[\"tap\"]^2 \n",
    "\n",
    "    # From side of the branch flow\n",
    "    @NLconstraint(model, p_fr ==  (g+g_fr)/tm*vm_fr^2 + (-g*tr+b*ti)/tm*(vm_fr*vm_to*cos(va_fr-va_to)) + (-b*tr-g*ti)/tm*(vm_fr*vm_to*sin(va_fr-va_to)) )\n",
    "    @NLconstraint(model, q_fr == -(b+b_fr)/tm*vm_fr^2 - (-b*tr-g*ti)/tm*(vm_fr*vm_to*cos(va_fr-va_to)) + (-g*tr+b*ti)/tm*(vm_fr*vm_to*sin(va_fr-va_to)) )\n",
    "\n",
    "    # To side of the branch flow\n",
    "    @NLconstraint(model, p_to ==  (g+g_to)*vm_to^2 + (-g*tr-b*ti)/tm*(vm_to*vm_fr*cos(va_to-va_fr)) + (-b*tr+g*ti)/tm*(vm_to*vm_fr*sin(va_to-va_fr)) )\n",
    "    @NLconstraint(model, q_to == -(b+b_to)*vm_to^2 - (-b*tr+g*ti)/tm*(vm_to*vm_fr*cos(va_fr-va_to)) + (-g*tr-b*ti)/tm*(vm_to*vm_fr*sin(va_to-va_fr)) )\n",
    "\n",
    "    # Apparent power limit, from side and to side\n",
    "    @constraint(model, p_fr^2 + q_fr^2 <= branch[\"rate_a\"]^2)\n",
    "    @constraint(model, p_to^2 + q_to^2 <= branch[\"rate_a\"]^2) \n",
    "end\n",
    "    \n",
    "    "
   ]
  },
  {
   "attachments": {},
   "cell_type": "markdown",
   "metadata": {},
   "source": [
    "## Optimize"
   ]
  },
  {
   "cell_type": "code",
   "execution_count": 43,
   "metadata": {},
   "outputs": [],
   "source": [
    "optimize!(model)"
   ]
  },
  {
   "cell_type": "code",
   "execution_count": 44,
   "metadata": {},
   "outputs": [
    {
     "name": "stdout",
     "output_type": "stream",
     "text": [
      "The solver termination status is LOCALLY_SOLVED\n",
      "The cost of generation is 21943.042555758388.\n",
      "The solving time is 0.014281988143920898\n"
     ]
    },
    {
     "data": {
      "text/plain": [
       "0.40000000959526927"
      ]
     },
     "metadata": {},
     "output_type": "display_data"
    }
   ],
   "source": [
    "#  Check that the solver terminated without an error\n",
    "println(\"The solver termination status is $(termination_status(model))\")\n",
    "\n",
    "# Check the value of the objective function\n",
    "cost = objective_value(model)\n",
    "println(\"The cost of generation is $(cost).\")\n",
    "println(\"The solving time is $(solve_time(model))\")\n",
    "\n",
    "# Check the value of an optimization variable\n",
    "# Example: Active power generated at generator 1\n",
    "pg1 = value(pg[1])"
   ]
  },
  {
   "cell_type": "code",
   "execution_count": null,
   "metadata": {},
   "outputs": [],
   "source": [
    "solve_time(model)"
   ]
  },
  {
   "attachments": {},
   "cell_type": "markdown",
   "metadata": {},
   "source": [
    "# Model (Branch Flow Power rectangular voltage)\n",
    "\n"
   ]
  },
  {
   "cell_type": "code",
   "execution_count": null,
   "metadata": {},
   "outputs": [],
   "source": [
    "model = Model(Ipopt.Optimizer)\n",
    "\n",
    "set_optimizer_attribute(model, \"print_level\", 0)"
   ]
  },
  {
   "cell_type": "code",
   "execution_count": null,
   "metadata": {},
   "outputs": [],
   "source": [
    "@variable(model, vr[i in keys(ref[:bus])])\n",
    "@variable(model, vi[i in keys(ref[:bus])])\n",
    "@variable(model, ref[:gen][i][\"pmin\"] <= pg[i in keys(ref[:gen])] <= ref[:gen][i][\"pmax\"])\n",
    "@variable(model, ref[:gen][i][\"qmin\"] <= qg[i in keys(ref[:gen])] <= ref[:gen][i][\"qmax\"])\n",
    "\n",
    "@variable(model, -ref[:branch][l][\"rate_a\"] <= p[(l,i,j) in ref[:arcs]] <= ref[:branch][l][\"rate_a\"])\n",
    "@variable(model, -ref[:branch][l][\"rate_a\"] <= q[(l,i,j) in ref[:arcs]] <= ref[:branch][l][\"rate_a\"])"
   ]
  },
  {
   "cell_type": "code",
   "execution_count": null,
   "metadata": {},
   "outputs": [],
   "source": [
    "@objective(model, Min,\n",
    "    sum(gen[\"cost\"][1]*pg[i]^2 + gen[\"cost\"][2]*pg[i] + gen[\"cost\"][3] for (i,gen) in ref[:gen])\n",
    ")"
   ]
  },
  {
   "cell_type": "code",
   "execution_count": null,
   "metadata": {},
   "outputs": [],
   "source": [
    "for (i, bus) in ref[:bus]\n",
    "    @constraint(model, bus[\"vmin\"]^2 <= vr[i]^2 + vi[i]^2)\n",
    "    @constraint(model, vr[i]^2 + vi[i]^2 <= bus[\"vmax\"]^2)\n",
    "end"
   ]
  },
  {
   "cell_type": "code",
   "execution_count": null,
   "metadata": {},
   "outputs": [],
   "source": [
    "for (i,bus) in ref[:bus]\n",
    "    # Build a list of the loads and shunt elements connected to the bus i\n",
    "    bus_loads = [ref[:load][l] for l in ref[:bus_loads][i]]\n",
    "    bus_shunts = [ref[:shunt][s] for s in ref[:bus_shunts][i]]\n",
    "\n",
    "    vm = vr[i]^2 + vi[i]^2\n",
    "    # Active power balance at node i\n",
    "    @constraint(model, \n",
    "        sum(pg[g] for g in ref[:bus_gens][i]) - sum(load[\"pd\"] for load in bus_loads) ==\n",
    "        sum(p[a] for a in ref[:bus_arcs][i])  + sum(shunt[\"gs\"] for shunt in bus_shunts) * vm\n",
    "    )\n",
    "\n",
    "    @constraint(model,\n",
    "        sum(qg[g] for g in ref[:bus_gens][i]) - sum(load[\"pd\"] for load in bus_loads) == \n",
    "        sum(q[a] for a in ref[:bus_arcs][i]) - sum(shunt[\"bs\"] for shunt in bus_shunts) * vm\n",
    "    )\n",
    "end"
   ]
  },
  {
   "cell_type": "code",
   "execution_count": null,
   "metadata": {},
   "outputs": [],
   "source": [
    "for (i, branch) in ref[:branch]\n",
    "    f_idx = (i, branch[\"f_bus\"], branch[\"t_bus\"])\n",
    "    t_idx = (i, branch[\"t_bus\"], branch[\"f_bus\"])\n",
    "\n",
    "    p_fr = p[f_idx]\n",
    "    q_fr = q[f_idx]\n",
    "    p_to = p[t_idx]\n",
    "    q_to = q[t_idx]\n",
    "\n",
    "    vr_fr = vr[branch[\"f_bus\"]]\n",
    "    vr_to = vr[branch[\"t_bus\"]]\n",
    "    vi_fr = vi[branch[\"f_bus\"]]\n",
    "    vi_to = vi[branch[\"t_bus\"]]\n",
    "\n",
    "    g, b = PowerModels.calc_branch_y(branch)\n",
    "    tr, ti = PowerModels.calc_branch_t(branch)\n",
    "    g_fr = branch[\"g_fr\"]\n",
    "    b_fr = branch[\"b_fr\"]\n",
    "    g_to = branch[\"g_to\"]\n",
    "    b_to = branch[\"b_to\"]\n",
    "    tm = branch[\"tap\"]^2 \n",
    "\n",
    "    g_net_fr = (g+g_fr)/tm\n",
    "    b_net_fr = (b+b_fr)/tm\n",
    "    g_net_to = (g+g_to)*vm\n",
    "    b_net_to = (b+b_to)*vm\n",
    "\n",
    "    G_fr = (-g*tr+b*ti)/tm\n",
    "    B_fr = (-b*tr-g*ti)/tm\n",
    "\n",
    "    G_to = (-g*tr-b*ti)/tm\n",
    "    B_to = (-b*tr+g*ti)/tm\n",
    "\n",
    "    @NLconstraint(model, p_fr = g_net_fr * (vr_fr^2 + vi_fr^2) + G_fr * (vr_fr * vr_to + vi_fr * vi_to) + B_fr * (vi_fr * vr_to - vr_fr * vi_to))\n",
    "    @NLconstraint(model, q_fr = -b_net_fr * (vr_fr^2 + vi_fr^2) + G_fr * (vi_fr * vr_to - vr_fr * vi_to) - B_fr * (vr_fr * vr_to + vi_fr * vi_to))\n",
    "\n",
    "    @NLconstraint(model, p_to = g_net_to * (vr_to^2 + vi_to^2) + G_to * (vr_to * vr_fr + vi_to * vi_fr) + B_to * (vi_to * vr_fr - vt_to * vi_fr))\n",
    "    @NLconstraint(model, q_to = -b_net_to * (vr_to^2 + vi_to^2) + G_to * (vi_to * vr_fr - vr_to * vi_fr) - B_to * (vr_to * vr_fr + vi_to * vi_fr))\n",
    "\n",
    "    # Apparent power limit, from side and to side\n",
    "    @constraint(model, p_fr^2 + q_fr^2 <= branch[\"rate_a\"]^2)\n",
    "    @constraint(model, p_to^2 + q_to^2 <= branch[\"rate_a\"]^2) \n",
    "end"
   ]
  },
  {
   "attachments": {},
   "cell_type": "markdown",
   "metadata": {},
   "source": [
    "# acopf"
   ]
  },
  {
   "cell_type": "code",
   "execution_count": 45,
   "metadata": {},
   "outputs": [
    {
     "data": {
      "text/plain": [
       "MathOptInterface.OptimizerWithAttributes(Ipopt.Optimizer, Pair{MathOptInterface.AbstractOptimizerAttribute, Any}[MathOptInterface.RawOptimizerAttribute(\"print_level\") => 0])"
      ]
     },
     "metadata": {},
     "output_type": "display_data"
    }
   ],
   "source": [
    "using Ipopt\n",
    "nlp_solver = optimizer_with_attributes(Ipopt.Optimizer, \"print_level\" => 0)"
   ]
  },
  {
   "cell_type": "code",
   "execution_count": 46,
   "metadata": {},
   "outputs": [
    {
     "data": {
      "text/plain": [
       "Dict{String, Any} with 8 entries:\n",
       "  \"solve_time\"         => 0.016865\n",
       "  \"optimizer\"          => \"Ipopt\"\n",
       "  \"termination_status\" => LOCALLY_SOLVED\n",
       "  \"dual_status\"        => FEASIBLE_POINT\n",
       "  \"primal_status\"      => FEASIBLE_POINT\n",
       "  \"objective\"          => 17551.9\n",
       "  \"solution\"           => Dict{String, Any}(\"baseMVA\"=>100, \"branch\"=>Dict{Stri…\n",
       "  \"objective_lb\"       => -Inf"
      ]
     },
     "metadata": {},
     "output_type": "display_data"
    }
   ],
   "source": [
    "result = solve_opf(data, ACPPowerModel, nlp_solver)"
   ]
  }
 ],
 "metadata": {
  "kernelspec": {
   "display_name": "Julia 1.8.5",
   "language": "julia",
   "name": "julia-1.8"
  },
  "language_info": {
   "file_extension": ".jl",
   "mimetype": "application/julia",
   "name": "julia",
   "version": "1.8.5"
  },
  "orig_nbformat": 4
 },
 "nbformat": 4,
 "nbformat_minor": 2
}
