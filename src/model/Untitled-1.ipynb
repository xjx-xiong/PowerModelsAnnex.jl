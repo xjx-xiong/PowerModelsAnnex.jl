{
 "cells": [
  {
   "cell_type": "code",
   "execution_count": 1,
   "metadata": {},
   "outputs": [],
   "source": [
    "using PowerModels\n",
    "using Ipopt\n",
    "using JuMP"
   ]
  },
  {
   "cell_type": "code",
   "execution_count": 2,
   "metadata": {},
   "outputs": [
    {
     "name": "stdout",
     "output_type": "stream",
     "text": [
      "\u001b[35m[warn | PowerModels]: this code only supports angmin values in -90 deg. to 90 deg., tightening the value on branch 8 from -360.0 to -60.0 deg.\u001b[39m\n"
     ]
    },
    {
     "name": "stdout",
     "output_type": "stream",
     "text": [
      "\u001b[35m[warn | PowerModels]: this code only supports angmax values in -90 deg. to 90 deg., tightening the value on branch 8 from 360.0 to 60.0 deg.\u001b[39m\n"
     ]
    },
    {
     "name": "stdout",
     "output_type": "stream",
     "text": [
      "\u001b[35m[warn | PowerModels]: this code only supports angmin values in -90 deg. to 90 deg., tightening the value on branch 4 from -360.0 to -60.0 deg.\u001b[39m\n"
     ]
    },
    {
     "name": "stdout",
     "output_type": "stream",
     "text": [
      "\u001b[35m[warn | PowerModels]: this code only supports angmax values in -90 deg. to 90 deg., tightening the value on branch 4 from 360.0 to 60.0 deg.\u001b[39m\n"
     ]
    },
    {
     "name": "stdout",
     "output_type": "stream",
     "text": [
      "\u001b[35m[warn | PowerModels]: this code only supports angmin values in -90 deg. to 90 deg., tightening the value on branch 1 from -360.0 to -60.0 deg.\u001b[39m\n"
     ]
    },
    {
     "name": "stdout",
     "output_type": "stream",
     "text": [
      "\u001b[35m[warn | PowerModels]: this code only supports angmax values in -90 deg. to 90 deg., tightening the value on branch 1 from 360.0 to 60.0 deg.\u001b[39m\n"
     ]
    },
    {
     "name": "stdout",
     "output_type": "stream",
     "text": [
      "\u001b[35m[warn | PowerModels]: this code only supports angmin values in -90 deg. to 90 deg., tightening the value on branch 5 from -360.0 to -60.0 deg.\u001b[39m\n"
     ]
    },
    {
     "name": "stdout",
     "output_type": "stream",
     "text": [
      "\u001b[35m[warn | PowerModels]: this code only supports angmax values in -90 deg. to 90 deg., tightening the value on branch 5 from 360.0 to 60.0 deg.\u001b[39m\n"
     ]
    },
    {
     "name": "stdout",
     "output_type": "stream",
     "text": [
      "\u001b[35m[warn | PowerModels]: this code only supports angmin values in -90 deg. to 90 deg., tightening the value on branch 2 from -360.0 to -60.0 deg.\u001b[39m\n"
     ]
    },
    {
     "name": "stdout",
     "output_type": "stream",
     "text": [
      "\u001b[35m[warn | PowerModels]: this code only supports angmax values in -90 deg. to 90 deg., tightening the value on branch 2 from 360.0 to 60.0 deg.\u001b[39m\n"
     ]
    },
    {
     "name": "stdout",
     "output_type": "stream",
     "text": [
      "\u001b[35m[warn | PowerModels]: this code only supports angmin values in -90 deg. to 90 deg., tightening the value on branch 6 from -360.0 to -60.0 deg.\u001b[39m\n"
     ]
    },
    {
     "name": "stdout",
     "output_type": "stream",
     "text": [
      "\u001b[35m[warn | PowerModels]: this code only supports angmax values in -90 deg. to 90 deg., tightening the value on branch 6 from 360.0 to 60.0 deg.\u001b[39m\n"
     ]
    },
    {
     "name": "stdout",
     "output_type": "stream",
     "text": [
      "\u001b[35m[warn | PowerModels]: this code only supports angmin values in -90 deg. to 90 deg., tightening the value on branch 7 from -360.0 to -60.0 deg.\u001b[39m\n"
     ]
    },
    {
     "name": "stdout",
     "output_type": "stream",
     "text": [
      "\u001b[35m[warn | PowerModels]: this code only supports angmax values in -90 deg. to 90 deg., tightening the value on branch 7 from 360.0 to 60.0 deg.\u001b[39m\n"
     ]
    },
    {
     "name": "stdout",
     "output_type": "stream",
     "text": [
      "\u001b[35m[warn | PowerModels]: this code only supports angmin values in -90 deg. to 90 deg., tightening the value on branch 9 from -360.0 to -60.0 deg.\u001b[39m\n"
     ]
    },
    {
     "name": "stdout",
     "output_type": "stream",
     "text": [
      "\u001b[35m[warn | PowerModels]: this code only supports angmax values in -90 deg. to 90 deg., tightening the value on branch 9 from 360.0 to 60.0 deg.\u001b[39m\n"
     ]
    },
    {
     "name": "stdout",
     "output_type": "stream",
     "text": [
      "\u001b[35m[warn | PowerModels]: this code only supports angmin values in -90 deg. to 90 deg., tightening the value on branch 3 from -360.0 to -60.0 deg.\u001b[39m\n"
     ]
    },
    {
     "name": "stdout",
     "output_type": "stream",
     "text": [
      "\u001b[35m[warn | PowerModels]: this code only supports angmax values in -90 deg. to 90 deg., tightening the value on branch 3 from 360.0 to 60.0 deg.\u001b[39m\n"
     ]
    },
    {
     "name": "stdout",
     "output_type": "stream",
     "text": [
      "\u001b[35m[warn | PowerModels]: the voltage setpoint on generator 1 does not match the value at bus 1\u001b[39m\n"
     ]
    },
    {
     "name": "stdout",
     "output_type": "stream",
     "text": [
      "\u001b[35m[warn | PowerModels]: the voltage setpoint on generator 2 does not match the value at bus 2\u001b[39m\n"
     ]
    },
    {
     "name": "stdout",
     "output_type": "stream",
     "text": [
      "\u001b[35m[warn | PowerModels]: the voltage setpoint on generator 3 does not match the value at bus 3\u001b[39m\n"
     ]
    },
    {
     "data": {
      "text/plain": [
       "Dict{String, Any} with 13 entries:\n",
       "  \"bus\"            => Dict{String, Any}(\"8\"=>Dict{String, Any}(\"zone\"=>1, \"bus_…\n",
       "  \"source_type\"    => \"matpower\"\n",
       "  \"name\"           => \"case9\"\n",
       "  \"dcline\"         => Dict{String, Any}()\n",
       "  \"source_version\" => \"2\"\n",
       "  \"gen\"            => Dict{String, Any}(\"1\"=>Dict{String, Any}(\"ncost\"=>3, \"qc1…\n",
       "  \"branch\"         => Dict{String, Any}(\"8\"=>Dict{String, Any}(\"br_r\"=>0.032, \"…\n",
       "  \"storage\"        => Dict{String, Any}()\n",
       "  \"switch\"         => Dict{String, Any}()\n",
       "  \"baseMVA\"        => 100\n",
       "  \"per_unit\"       => true\n",
       "  \"shunt\"          => Dict{String, Any}()\n",
       "  \"load\"           => Dict{String, Any}(\"1\"=>Dict{String, Any}(\"source_id\"=>Any…"
      ]
     },
     "metadata": {},
     "output_type": "display_data"
    }
   ],
   "source": [
    "file_name = \"case9.m\"\n",
    "data = PowerModels.parse_file(file_name)"
   ]
  },
  {
   "cell_type": "code",
   "execution_count": 3,
   "metadata": {},
   "outputs": [
    {
     "name": "stdout",
     "output_type": "stream",
     "text": [
      "\u001b[1mMetadata\u001b[0m\n",
      "  baseMVA: 100\n",
      "  name: case9\n",
      "  per_unit: true\n",
      "  source_type: matpower\n",
      "  source_version: 2\n",
      "\n",
      "\u001b[1mTable Counts\u001b[0m\n",
      "  bus: 9\n",
      "  load: 3\n",
      "  shunt: 0\n",
      "  gen: 3\n",
      "  storage: 0\n",
      "  switch: 0\n",
      "  branch: 9\n",
      "  dcline: 0\n",
      "\n",
      "\n",
      "\u001b[1mTable: bus\u001b[0m\n",
      "         bus_i, bus_type"
     ]
    },
    {
     "name": "stdout",
     "output_type": "stream",
     "text": [
      "\n",
      "      1:     1,        3\n",
      "      2:     2,        2\n",
      "      3:     3,        2\n",
      "      4:     4,        1\n",
      "      5:     5,        1\n",
      "      6:     6,        1\n",
      "      7:     7,        1\n",
      "      8:     8,        1\n",
      "      9:     9,        1\n",
      "\n",
      "  default values:\n",
      "    base_kv: 345.000"
     ]
    },
    {
     "name": "stdout",
     "output_type": "stream",
     "text": [
      "\n",
      "    vm: 1.000\n",
      "    va: 0.000\n",
      "    vmin: 0.900\n",
      "    vmax: 1.100\n",
      "    area: 1\n",
      "    source_id: [(2)]\n",
      "    zone: 1\n",
      "\n",
      "\n",
      "\u001b[1mTable: load\u001b[0m\n",
      "         load_bus,    pd,    qd\n",
      "      1:        5, 0.900, 0.300\n",
      "      2:        7, 1.000, 0.350\n",
      "      3:        9, 1.250, 0.500\n",
      "\n",
      "  default values:\n",
      "    status: 1\n",
      "    source_id: [(2)]\n",
      "\n",
      "\n",
      "\u001b[1mTable: gen\u001b[0m\n",
      "         gen_bus,    pg,     qg,    vg,  pmax,  startup\n",
      "      1:       1, 0.723,  0.270, 1.040, 2.500, 1500.000\n",
      "      2:       2, 1.630,  0.065, 1.025, 3.000, 2000.000\n",
      "      3:       3, 0.850, -0.109, 1.025, 2.700, 3000.000\n",
      "\n",
      "  default values:\n",
      "    mbase: 100.000\n",
      "    pmin: 0.100\n",
      "    qmin: -3.000\n",
      "    qmax: 3.000\n",
      "    gen_status: 1\n",
      "    model: 2\n",
      "    ncost: 3\n",
      "    cost: [(3)]\n",
      "    shutdown: 0.000\n",
      "    apf: 0.000\n",
      "    pc1: 0.000\n",
      "    pc2: 0.000\n",
      "    qc1max: 0.000\n",
      "    qc1min: 0.000\n",
      "    qc2max: 0.000\n",
      "    qc2min: 0.000\n",
      "    ramp_10: 0.000\n",
      "    ramp_30: 0.000\n",
      "    ramp_agc: 0.000\n",
      "    ramp_q: 0.000\n",
      "    source_id: [(2)]\n",
      "\n",
      "\n",
      "\u001b[1mTable: branch\u001b[0m\n",
      "         f_bus, t_bus,  br_r,  br_x,  b_fr,  b_to, rate_a, rate_b, rate_c\n",
      "      1:     1,     4, 0.000, 0.058, 0.000, 0.000,  2.500,  2.500,  2.500\n",
      "      2:     4,     5, 0.017, 0.092, 0.079, 0.079,  2.500,  2.500,  2.500\n",
      "      3:     5,     6, 0.039, 0.170, 0.179, 0.179,  1.500,  1.500,  1.500\n",
      "      4:     3,     6, 0.000, 0.059, 0.000, 0.000,  3.000,  3.000,  3.000\n",
      "      5:     6,     7, 0.012, 0.101, 0.104, 0.104,  1.500,  1.500,  1.500\n",
      "      6:     7,     8, 0.008, 0.072, 0.074, 0.074,  2.500,  2.500,  2.500\n",
      "      7:     8,     2, 0.000, 0.062, 0.000, 0.000,  2.500,  2.500,  2.500\n",
      "      8:     8,     9, 0.032, 0.161, 0.153, 0.153,  2.500,  2.500,  2.500\n",
      "      9:     9,     4, 0.010, 0.085, 0.088, 0.088,  2.500,  2.500,  2.500\n",
      "\n",
      "  default values:\n",
      "    g_fr: 0.000\n",
      "    g_to: 0.000\n",
      "    tap: 1.000\n",
      "    shift: 0.000\n",
      "    br_status: 1\n",
      "    angmax: 1.047\n",
      "    angmin: -1.047\n",
      "    source_id: [(2)]\n",
      "    transformer: false\n"
     ]
    }
   ],
   "source": [
    "PowerModels.print_summary(data)"
   ]
  },
  {
   "attachments": {},
   "cell_type": "markdown",
   "metadata": {},
   "source": [
    "some branch may not have themal limit (rate_a), need to add reasonable thermal limit"
   ]
  },
  {
   "cell_type": "code",
   "execution_count": 4,
   "metadata": {},
   "outputs": [],
   "source": [
    "PowerModels.calc_thermal_limits!(data)"
   ]
  },
  {
   "attachments": {},
   "cell_type": "markdown",
   "metadata": {},
   "source": [
    "cost for generator only have 2 \n",
    "\n",
    "Add zeros to turn linear objective functions into quadratic ones, so that additional parameter checks are not required"
   ]
  },
  {
   "cell_type": "code",
   "execution_count": 5,
   "metadata": {},
   "outputs": [],
   "source": [
    "PowerModels.standardize_cost_terms!(data, order=2)"
   ]
  },
  {
   "cell_type": "code",
   "execution_count": 6,
   "metadata": {},
   "outputs": [
    {
     "data": {
      "text/plain": [
       "Dict{String, Any} with 28 entries:\n",
       "  \"ncost\"      => 3\n",
       "  \"qc1max\"     => 0.0\n",
       "  \"pg\"         => 0.4\n",
       "  \"model\"      => 2\n",
       "  \"shutdown\"   => 0.0\n",
       "  \"startup\"    => 0.0\n",
       "  \"qc2max\"     => 0.0\n",
       "  \"ramp_agc\"   => 0.0\n",
       "  \"qg\"         => 0.0\n",
       "  \"gen_bus\"    => 1\n",
       "  \"pmax\"       => 0.4\n",
       "  \"ramp_10\"    => 0.0\n",
       "  \"vg\"         => 1.0\n",
       "  \"mbase\"      => 100.0\n",
       "  \"source_id\"  => Any[\"gen\", 1]\n",
       "  \"pc2\"        => 0.0\n",
       "  \"index\"      => 1\n",
       "  \"cost\"       => [0.0, 1400.0, 0.0]\n",
       "  \"qmax\"       => 0.3\n",
       "  ⋮            => ⋮"
      ]
     },
     "metadata": {},
     "output_type": "display_data"
    }
   ],
   "source": [
    "data[\"gen\"][\"1\"]"
   ]
  },
  {
   "attachments": {},
   "cell_type": "markdown",
   "metadata": {},
   "source": [
    "use build_ref to filter out inactive components\n",
    "\n",
    "note: ref contains all the relevant system parameters needed to build the OPF model\n",
    "\n",
    "When we introduce constraints and variable bounds below, we use the parameters in ref."
   ]
  },
  {
   "cell_type": "code",
   "execution_count": 6,
   "metadata": {},
   "outputs": [
    {
     "data": {
      "text/plain": [
       "Dict{Symbol, Any} with 31 entries:\n",
       "  :arcs_dc      => Tuple{Int64, Any, Any}[]\n",
       "  :arcs_to      => [(5, 7, 6), (4, 6, 3), (6, 8, 7), (7, 2, 8), (2, 5, 4), (9, …\n",
       "  :bus_gens     => Dict(5=>[], 4=>[], 6=>[], 7=>[], 2=>[2], 9=>[], 8=>[], 3=>[3…\n",
       "  :switch       => Dict{Int64, Any}()\n",
       "  :bus_arcs     => Dict(5=>[(3, 5, 6), (2, 5, 4)], 4=>[(2, 4, 5), (9, 4, 9), (1…\n",
       "  :buspairs     => Dict{Tuple{Int64, Int64}, Dict{String, Real}}((4, 5)=>Dict(\"…\n",
       "  :bus          => Dict{Int64, Any}(5=>Dict{String, Any}(\"zone\"=>1, \"bus_i\"=>5,…\n",
       "  :dcline       => Dict{Int64, Any}()\n",
       "  :arcs_to_dc   => Tuple{Int64, Any, Any}[]\n",
       "  :arcs_to_sw   => Tuple{Int64, Any, Any}[]\n",
       "  :storage      => Dict{Int64, Any}()\n",
       "  :bus_loads    => Dict(5=>[1], 4=>[], 6=>[], 7=>[2], 2=>[], 9=>[3], 8=>[], 3=>…\n",
       "  :branch       => Dict{Int64, Any}(5=>Dict{String, Any}(\"br_r\"=>0.0119, \"rate_…\n",
       "  :gen          => Dict{Int64, Any}(2=>Dict{String, Any}(\"ncost\"=>3, \"qc1max\"=>…\n",
       "  :source_type  => \"matpower\"\n",
       "  :name         => \"case9\"\n",
       "  :shunt        => Dict{Int64, Any}()\n",
       "  :load         => Dict{Int64, Any}(2=>Dict{String, Any}(\"source_id\"=>Any[\"bus\"…\n",
       "  :arcs_from_sw => Tuple{Int64, Any, Any}[]\n",
       "  ⋮             => ⋮"
      ]
     },
     "metadata": {},
     "output_type": "display_data"
    }
   ],
   "source": [
    "ref = PowerModels.build_ref(data)[:it][:pm][:nw][0]"
   ]
  },
  {
   "cell_type": "code",
   "execution_count": null,
   "metadata": {},
   "outputs": [],
   "source": [
    "ref[:load][1]"
   ]
  },
  {
   "cell_type": "code",
   "execution_count": null,
   "metadata": {},
   "outputs": [],
   "source": [
    "ref[:bus_loads]"
   ]
  },
  {
   "cell_type": "code",
   "execution_count": null,
   "metadata": {},
   "outputs": [],
   "source": [
    "ref[:branch][5][\"rate_a\"]"
   ]
  },
  {
   "cell_type": "code",
   "execution_count": null,
   "metadata": {},
   "outputs": [],
   "source": [
    "ref[:arcs]"
   ]
  },
  {
   "cell_type": "code",
   "execution_count": null,
   "metadata": {},
   "outputs": [],
   "source": [
    "ref[:branch][1]"
   ]
  },
  {
   "attachments": {},
   "cell_type": "markdown",
   "metadata": {},
   "source": [
    "# Model"
   ]
  },
  {
   "cell_type": "code",
   "execution_count": 7,
   "metadata": {},
   "outputs": [],
   "source": [
    "model = Model(Ipopt.Optimizer)\n",
    "\n",
    "set_optimizer_attribute(model, \"print_level\", 0)"
   ]
  },
  {
   "attachments": {},
   "cell_type": "markdown",
   "metadata": {},
   "source": [
    "## Variable\n",
    "\n",
    "use polar coordinates for voltage, rectangular coordinates for admittance matrix\n",
    "\n",
    "- for each bus: voltage angle, voltage magnitude\n",
    "- for each generator: pg, qg\n",
    "- for each branch: p, g"
   ]
  },
  {
   "cell_type": "code",
   "execution_count": 8,
   "metadata": {},
   "outputs": [
    {
     "data": {
      "text/plain": [
       "1-dimensional DenseAxisArray{VariableRef,1,...} with index sets:\n",
       "    Dimension 1, [(5, 6, 7), (4, 3, 6), (6, 7, 8), (7, 8, 2), (2, 4, 5), (9, 9, 4), (8, 8, 9), (3, 5, 6), (1, 1, 4), (5, 7, 6), (4, 6, 3), (6, 8, 7), (7, 2, 8), (2, 5, 4), (9, 4, 9), (8, 9, 8), (3, 6, 5), (1, 4, 1)]\n",
       "And data, a 18-element Vector{VariableRef}:\n",
       " q[(5, 6, 7)]\n",
       " q[(4, 3, 6)]\n",
       " q[(6, 7, 8)]\n",
       " q[(7, 8, 2)]\n",
       " q[(2, 4, 5)]\n",
       " q[(9, 9, 4)]\n",
       " q[(8, 8, 9)]\n",
       " q[(3, 5, 6)]\n",
       " q[(1, 1, 4)]\n",
       " q[(5, 7, 6)]\n",
       " q[(4, 6, 3)]\n",
       " q[(6, 8, 7)]\n",
       " q[(7, 2, 8)]\n",
       " q[(2, 5, 4)]\n",
       " q[(9, 4, 9)]\n",
       " q[(8, 9, 8)]\n",
       " q[(3, 6, 5)]\n",
       " q[(1, 4, 1)]"
      ]
     },
     "metadata": {},
     "output_type": "display_data"
    }
   ],
   "source": [
    "@variable(model, va[i in keys(ref[:bus])])\n",
    "@variable(model, ref[:bus][i][\"vmin\"] <= vm[i in keys(ref[:bus])] <= ref[:bus][i][\"vmax\"], start=1.0)\n",
    "@variable(model, ref[:gen][i][\"pmin\"] <= pg[i in keys(ref[:gen])] <= ref[:gen][i][\"pmax\"])\n",
    "@variable(model, ref[:gen][i][\"qmin\"] <= qg[i in keys(ref[:gen])] <= ref[:gen][i][\"qmax\"])\n",
    "\n",
    "@variable(model, -ref[:branch][l][\"rate_a\"] <= p[(l,i,j) in ref[:arcs]] <= ref[:branch][l][\"rate_a\"])\n",
    "@variable(model, -ref[:branch][l][\"rate_a\"] <= q[(l,i,j) in ref[:arcs]] <= ref[:branch][l][\"rate_a\"])"
   ]
  },
  {
   "attachments": {},
   "cell_type": "markdown",
   "metadata": {},
   "source": [
    "## Objecive"
   ]
  },
  {
   "cell_type": "code",
   "execution_count": 9,
   "metadata": {},
   "outputs": [
    {
     "data": {
      "text/latex": [
       "$$ 850.0000000000001 pg_{2}^2 + 1225 pg_{3}^2 + 1100 pg_{1}^2 + 120 pg_{2} + 100 pg_{3} + 500 pg_{1} + 1085 $$"
      ],
      "text/plain": [
       "850.0000000000001 pg[2]² + 1225 pg[3]² + 1100 pg[1]² + 120 pg[2] + 100 pg[3] + 500 pg[1] + 1085"
      ]
     },
     "metadata": {},
     "output_type": "display_data"
    }
   ],
   "source": [
    "@objective(model, Min,\n",
    "    sum(gen[\"cost\"][1]*pg[i]^2 + gen[\"cost\"][2]*pg[i] + gen[\"cost\"][3] for (i,gen) in ref[:gen])\n",
    ")"
   ]
  },
  {
   "attachments": {},
   "cell_type": "markdown",
   "metadata": {},
   "source": [
    "## Constraints"
   ]
  },
  {
   "cell_type": "code",
   "execution_count": null,
   "metadata": {},
   "outputs": [],
   "source": [
    "ref[:ref_buses]"
   ]
  },
  {
   "attachments": {},
   "cell_type": "markdown",
   "metadata": {},
   "source": [
    "### Fix the voltage angle to zero at the reference bus"
   ]
  },
  {
   "cell_type": "code",
   "execution_count": 10,
   "metadata": {},
   "outputs": [],
   "source": [
    "for (i,bus) in ref[:ref_buses]\n",
    "    @constraint(model, va[i] == 0)\n",
    "end"
   ]
  },
  {
   "attachments": {},
   "cell_type": "markdown",
   "metadata": {},
   "source": [
    "### Nodal power balance constraints"
   ]
  },
  {
   "attachments": {},
   "cell_type": "markdown",
   "metadata": {},
   "source": [
    "ref[:bus_loads] bus => list of loads_idx\n",
    "\n",
    "ref[:load] load_idx => load deltais"
   ]
  },
  {
   "cell_type": "code",
   "execution_count": null,
   "metadata": {},
   "outputs": [],
   "source": [
    "ref[:bus_arcs]"
   ]
  },
  {
   "cell_type": "code",
   "execution_count": 11,
   "metadata": {},
   "outputs": [],
   "source": [
    "for (i,bus) in ref[:bus]\n",
    "    # Build a list of the loads and shunt elements connected to the bus i\n",
    "    bus_loads = [ref[:load][l] for l in ref[:bus_loads][i]]\n",
    "    bus_shunts = [ref[:shunt][s] for s in ref[:bus_shunts][i]]\n",
    "\n",
    "    # Active power balance at node i\n",
    "    @constraint(model, \n",
    "        sum(pg[g] for g in ref[:bus_gens][i]) - sum(load[\"pd\"] for load in bus_loads) ==\n",
    "        sum(p[a] for a in ref[:bus_arcs][i])  + sum(shunt[\"gs\"] for shunt in bus_shunts) * vm[i]^2\n",
    "    )\n",
    "\n",
    "    @constraint(model,\n",
    "        sum(qg[g] for g in ref[:bus_gens][i]) - sum(load[\"pd\"] for load in bus_loads) == \n",
    "        sum(q[a] for a in ref[:bus_arcs][i]) - sum(shunt[\"bs\"] for shunt in bus_shunts) * vm[i] ^2\n",
    "    )\n",
    "end"
   ]
  },
  {
   "attachments": {},
   "cell_type": "markdown",
   "metadata": {},
   "source": [
    "## Branch Flow constraints"
   ]
  },
  {
   "cell_type": "code",
   "execution_count": 12,
   "metadata": {},
   "outputs": [],
   "source": [
    "for (i, branch) in ref[:branch]\n",
    "    f_idx = (i, branch[\"f_bus\"], branch[\"t_bus\"])\n",
    "    t_idx = (i, branch[\"t_bus\"], branch[\"f_bus\"])\n",
    "\n",
    "    p_fr = p[f_idx]\n",
    "    q_fr = q[f_idx]\n",
    "    p_to = p[t_idx]\n",
    "    q_to = q[t_idx]\n",
    "\n",
    "    vm_fr = vm[branch[\"f_bus\"]]\n",
    "    vm_to = vm[branch[\"t_bus\"]]\n",
    "    va_fr = va[branch[\"f_bus\"]]\n",
    "    va_to = va[branch[\"t_bus\"]]\n",
    "\n",
    "    g, b = PowerModels.calc_branch_y(branch)\n",
    "    tr, ti = PowerModels.calc_branch_t(branch)\n",
    "    g_fr = branch[\"g_fr\"]\n",
    "    b_fr = branch[\"b_fr\"]\n",
    "    g_to = branch[\"g_to\"]\n",
    "    b_to = branch[\"b_to\"]\n",
    "    tm = branch[\"tap\"]^2 \n",
    "\n",
    "    # From side of the branch flow\n",
    "    @NLconstraint(model, p_fr ==  (g+g_fr)/tm*vm_fr^2 + (-g*tr+b*ti)/tm*(vm_fr*vm_to*cos(va_fr-va_to)) + (-b*tr-g*ti)/tm*(vm_fr*vm_to*sin(va_fr-va_to)) )\n",
    "    @NLconstraint(model, q_fr == -(b+b_fr)/tm*vm_fr^2 - (-b*tr-g*ti)/tm*(vm_fr*vm_to*cos(va_fr-va_to)) + (-g*tr+b*ti)/tm*(vm_fr*vm_to*sin(va_fr-va_to)) )\n",
    "\n",
    "    # To side of the branch flow\n",
    "    @NLconstraint(model, p_to ==  (g+g_to)*vm_to^2 + (-g*tr-b*ti)/tm*(vm_to*vm_fr*cos(va_to-va_fr)) + (-b*tr+g*ti)/tm*(vm_to*vm_fr*sin(va_to-va_fr)) )\n",
    "    @NLconstraint(model, q_to == -(b+b_to)*vm_to^2 - (-b*tr+g*ti)/tm*(vm_to*vm_fr*cos(va_fr-va_to)) + (-g*tr-b*ti)/tm*(vm_to*vm_fr*sin(va_to-va_fr)) )\n",
    "\n",
    "    # Apparent power limit, from side and to side\n",
    "    @constraint(model, p_fr^2 + q_fr^2 <= branch[\"rate_a\"]^2)\n",
    "    @constraint(model, p_to^2 + q_to^2 <= branch[\"rate_a\"]^2) \n",
    "end\n",
    "    \n",
    "    "
   ]
  },
  {
   "attachments": {},
   "cell_type": "markdown",
   "metadata": {},
   "source": [
    "## Optimize"
   ]
  },
  {
   "cell_type": "code",
   "execution_count": 13,
   "metadata": {},
   "outputs": [
    {
     "name": "stdout",
     "output_type": "stream",
     "text": [
      "\n",
      "******************************************************************************\n",
      "This program contains Ipopt, a library for large-scale nonlinear optimization.\n",
      " Ipopt is released as open source code under the Eclipse Public License (EPL).\n",
      "         For more information visit https://github.com/coin-or/Ipopt\n",
      "******************************************************************************\n",
      "\n"
     ]
    }
   ],
   "source": [
    "optimize!(model)"
   ]
  },
  {
   "cell_type": "code",
   "execution_count": 14,
   "metadata": {},
   "outputs": [
    {
     "name": "stdout",
     "output_type": "stream",
     "text": [
      "The solver termination status is LOCALLY_SOLVED\n"
     ]
    },
    {
     "name": "stdout",
     "output_type": "stream",
     "text": [
      "The cost of generation is 5350.356072945839.\n"
     ]
    },
    {
     "data": {
      "text/plain": [
       "0.9075289685422059"
      ]
     },
     "metadata": {},
     "output_type": "display_data"
    }
   ],
   "source": [
    "#  Check that the solver terminated without an error\n",
    "println(\"The solver termination status is $(termination_status(model))\")\n",
    "\n",
    "# Check the value of the objective function\n",
    "cost = objective_value(model)\n",
    "println(\"The cost of generation is $(cost).\")\n",
    "\n",
    "# Check the value of an optimization variable\n",
    "# Example: Active power generated at generator 1\n",
    "pg1 = value(pg[1])"
   ]
  },
  {
   "cell_type": "code",
   "execution_count": 15,
   "metadata": {},
   "outputs": [
    {
     "name": "stdout",
     "output_type": "stream",
     "text": [
      "Min 850.0000000000001 pg[2]² + 1225 pg[3]² + 1100 pg[1]² + 120 pg[2] + 100 pg[3] + 500 pg[1] + 1085\n",
      "Subject to\n",
      " "
     ]
    },
    {
     "name": "stdout",
     "output_type": "stream",
     "text": [
      "va[1] = 0.0\n",
      " -p[(3, 5, 6)] - p[(2, 5, 4)] = 0.9\n",
      " -q[(3, 5, 6)] - q[(2, 5, 4)] = 0.9\n",
      " -p[(2, 4, 5)] - p[(9, 4, 9)] - p[(1, 4, 1)] = 0.0\n",
      " -q[(2, 4, 5)] - q[(9, 4, 9)] - q[(1, 4, 1)] = 0.0\n",
      " -p[(5, 6, 7)] - p[(4, 6, 3)] - p[(3, 6, 5)] = 0.0\n",
      " -q[(5, 6, 7)] - q[(4, 6, 3)] - q[(3, 6, 5)] = 0.0\n",
      " -p[(6, 7, 8)] - p[(5, 7, 6)] = 1.0\n",
      " -q[(6, 7, 8)] - q[(5, 7, 6)] = 1.0\n",
      " pg[2] - p[(7, 2, 8)] = 0.0\n",
      " qg[2] - q[(7, 2, 8)] = 0.0\n",
      " -p[(9, 9, 4)] - p[(8, 9, 8)] = 1.25\n",
      " -q[(9, 9, 4)] - q[(8, 9, 8)] = 1.25\n",
      " -p[(7, 8, 2)] - p[(8, 8, 9)] - p[(6, 8, 7)] = 0.0\n",
      " -q[(7, 8, 2)] - q[(8, 8, 9)] - q[(6, 8, 7)] = 0.0\n",
      " pg[3] - p[(4, 3, 6)] = 0.0\n",
      " qg[3] - q[(4, 3, 6)] = 0.0\n",
      " pg[1] - p[(1, 1, 4)] = 0.0\n",
      " qg[1] - q[(1, 1, 4)] = 0.0\n",
      " p[(5, 6, 7)]² + q[(5, 6, 7)]² ≤ 2.25\n",
      " p[(5, 7, 6)]² + q[(5, 7, 6)]² ≤ 2.25\n",
      " p[(4, 3, 6)]² + q[(4, 3, 6)]² ≤ 9.0\n",
      " p[(4, 6, 3)]² + q[(4, 6, 3)]² ≤ 9.0\n",
      " p[(6, 7, 8)]² + q[(6, 7, 8)]² ≤ 6.25\n",
      " p[(6, 8, 7)]² + q[(6, 8, 7)]² ≤ 6.25\n",
      " p[(7, 8, 2)]² + q[(7, 8, 2)]² ≤ 6.25\n",
      " p[(7, 2, 8)]² + q[(7, 2, 8)]² ≤ 6.25\n",
      " p[(2, 4, 5)]² + q[(2, 4, 5)]² ≤ 6.25\n",
      " p[(2, 5, 4)]² + q[(2, 5, 4)]² ≤ 6.25\n",
      " p[(9, 9, 4)]² + q[(9, 9, 4)]² ≤ 6.25\n",
      " p[(9, 4, 9)]² + q[(9, 4, 9)]² ≤ 6.25\n",
      " p[(8, 8, 9)]² + q[(8, 8, 9)]² ≤ 6.25\n",
      " p[(8, 9, 8)]² + q[(8, 9, 8)]² ≤ 6.25\n",
      " p[(3, 5, 6)]² + q[(3, 5, 6)]² ≤ 2.25\n",
      " p[(3, 6, 5)]² + q[(3, 6, 5)]² ≤ 2.25\n",
      " p[(1, 1, 4)]² + q[(1, 1, 4)]² ≤ 6.25\n",
      " p[(1, 4, 1)]² + q[(1, 4, 1)]² ≤ 6.25\n",
      " vm[5] ≥ 0.9\n",
      " vm[4] ≥ 0.9\n",
      " vm[6] ≥ 0.9\n",
      " vm[7] ≥ 0.9\n",
      " vm[2] ≥ 0.9\n",
      " vm[9] ≥ 0.9\n",
      " vm[8] ≥ 0.9\n",
      " vm[3] ≥ 0.9\n",
      " vm[1] ≥ 0.9\n",
      " pg[2] ≥ 0.1\n",
      " pg[3] ≥ 0.1\n",
      " pg[1] ≥ 0.1\n",
      " qg[2] ≥ -3.0\n",
      " qg[3] ≥ -3.0\n",
      " qg[1] ≥ -3.0\n",
      " p[(5, 6, 7)] ≥ -1.5\n",
      " p[(4, 3, 6)] ≥ -3.0\n",
      " p[(6, 7, 8)] ≥ -2.5\n",
      " p[(7, 8, 2)] ≥ -2.5\n",
      " p[(2, 4, 5)] ≥ -2.5\n",
      " p[(9, 9, 4)] ≥ -2.5\n",
      " p[(8, 8, 9)] ≥ -2.5\n",
      " p[(3, 5, 6)] ≥ -1.5\n",
      " p[(1, 1, 4)] ≥ -2.5\n",
      " p[(5, 7, 6)] ≥ -1.5\n",
      " p[(4, 6, 3)] ≥ -3.0\n",
      " p[(6, 8, 7)] ≥ -2.5\n",
      " p[(7, 2, 8)] ≥ -2.5\n",
      " p[(2, 5, 4)] ≥ -2.5\n",
      " p[(9, 4, 9)] ≥ -2.5\n",
      " p[(8, 9, 8)] ≥ -2.5\n",
      " p[(3, 6, 5)] ≥ -1.5\n",
      " p[(1, 4, 1)] ≥ -2.5\n",
      " q[(5, 6, 7)] ≥ -1.5\n",
      " q[(4, 3, 6)] ≥ -3.0\n",
      " q[(6, 7, 8)] ≥ -2.5\n",
      " q[(7, 8, 2)] ≥ -2.5\n",
      " q[(2, 4, 5)] ≥ -2.5\n",
      " q[(9, 9, 4)] ≥ -2.5\n",
      " q[(8, 8, 9)] ≥ -2.5\n",
      " q[(3, 5, 6)] ≥ -1.5\n",
      " q[(1, 1, 4)] ≥ -2.5\n",
      " q[(5, 7, 6)] ≥ -1.5\n",
      " q[(4, 6, 3)] ≥ -3.0\n",
      " q[(6, 8, 7)] ≥ -2.5\n",
      " q[(7, 2, 8)] ≥ -2.5\n",
      " q[(2, 5, 4)] ≥ -2.5\n",
      " q[(9, 4, 9)] ≥ -2.5\n",
      " q[(8, 9, 8)] ≥ -2.5\n",
      " q[(3, 6, 5)] ≥ -1.5\n",
      " q[(1, 4, 1)] ≥ -2.5\n",
      " vm[5] ≤ 1.1\n",
      " vm[4] ≤ 1.1\n",
      " vm[6] ≤ 1.1\n",
      " vm[7] ≤ 1.1\n",
      " vm[2] ≤ 1.1\n",
      " vm[9] ≤ 1.1\n",
      " vm[8] ≤ 1.1\n",
      " vm[3] ≤ 1.1\n",
      " vm[1] ≤ 1.1\n",
      " pg[2] ≤ 3.0\n",
      " pg[3] ≤ 2.7\n",
      " pg[1] ≤ 2.5\n",
      " qg[2] ≤ 3.0\n",
      " qg[3] ≤ 3.0\n",
      " qg[1] ≤ 3.0\n",
      " p[(5, 6, 7)] ≤ 1.5\n",
      " p[(4, 3, 6)] ≤ 3.0\n",
      " p[(6, 7, 8)] ≤ 2.5\n",
      " p[(7, 8, 2)] ≤ 2.5\n",
      " p[(2, 4, 5)] ≤ 2.5\n",
      " p[(9, 9, 4)] ≤ 2.5\n",
      " p[(8, 8, 9)] ≤ 2.5\n",
      " p[(3, 5, 6)] ≤ 1.5\n",
      " p[(1, 1, 4)] ≤ 2.5\n",
      " p[(5, 7, 6)] ≤ 1.5\n",
      " p[(4, 6, 3)] ≤ 3.0\n",
      " p[(6, 8, 7)] ≤ 2.5\n",
      " p[(7, 2, 8)] ≤ 2.5\n",
      " p[(2, 5, 4)] ≤ 2.5\n",
      " p[(9, 4, 9)] ≤ 2.5\n",
      " p[(8, 9, 8)] ≤ 2.5\n",
      " p[(3, 6, 5)] ≤ 1.5\n",
      " p[(1, 4, 1)] ≤ 2.5\n",
      " q[(5, 6, 7)] ≤ 1.5\n",
      " q[(4, 3, 6)] ≤ 3.0\n",
      " q[(6, 7, 8)] ≤ 2.5\n",
      " q[(7, 8, 2)] ≤ 2.5\n",
      " q[(2, 4, 5)] ≤ 2.5\n",
      " q[(9, 9, 4)] ≤ 2.5\n",
      " q[(8, 8, 9)] ≤ 2.5\n",
      " q[(3, 5, 6)] ≤ 1.5\n",
      " q[(1, 1, 4)] ≤ 2.5\n",
      " q[(5, 7, 6)] ≤ 1.5\n",
      " q[(4, 6, 3)] ≤ 3.0\n",
      " q[(6, 8, 7)] ≤ 2.5\n",
      " q[(7, 2, 8)] ≤ 2.5\n",
      " q[(2, 5, 4)] ≤ 2.5\n",
      " q[(9, 4, 9)] ≤ 2.5\n",
      " q[(8, 9, 8)] ≤ 2.5\n",
      " q[(3, 6, 5)] ≤ 1.5\n",
      " q[(1, 4, 1)] ≤ 2.5\n",
      " (p[(5, 6, 7)] - (((1.155087480890097 + 0.0) / 1.0) * vm[6] ^ 2.0 + ((-1.155087480890097 * 1.0 + -9.784270426363173 * 0.0) / 1.0) * (vm[6] * vm[7] * cos(va[6] - va[7])) + ((--9.784270426363173 * 1.0 - 1.155087480890097 * 0.0) / 1.0) * (vm[6] * vm[7] * sin(va[6] - va[7])))) - 0.0 = 0\n",
      " (q[(5, 6, 7)] - (((-((-9.784270426363173 + 0.1045)) / 1.0) * vm[6] ^ 2.0 - ((--9.784270426363173 * 1.0 - 1.155087480890097 * 0.0) / 1.0) * (vm[6] * vm[7] * cos(va[6] - va[7]))) + ((-1.155087480890097 * 1.0 + -9.784270426363173 * 0.0) / 1.0) * (vm[6] * vm[7] * sin(va[6] - va[7])))) - 0.0 = 0\n",
      " (p[(5, 7, 6)] - ((1.155087480890097 + 0.0) * vm[7] ^ 2.0 + ((-1.155087480890097 * 1.0 - -9.784270426363173 * 0.0) / 1.0) * (vm[7] * vm[6] * cos(va[7] - va[6])) + ((--9.784270426363173 * 1.0 + 1.155087480890097 * 0.0) / 1.0) * (vm[7] * vm[6] * sin(va[7] - va[6])))) - 0.0 = 0\n",
      " (q[(5, 7, 6)] - ((-((-9.784270426363173 + 0.1045)) * vm[7] ^ 2.0 - ((--9.784270426363173 * 1.0 + 1.155087480890097 * 0.0) / 1.0) * (vm[7] * vm[6] * cos(va[6] - va[7]))) + ((-1.155087480890097 * 1.0 - -9.784270426363173 * 0.0) / 1.0) * (vm[7] * vm[6] * sin(va[7] - va[6])))) - 0.0 = 0\n",
      " (p[(4, 3, 6)] - (((0.0 + 0.0) / 1.0) * vm[3] ^ 2.0 + ((-0.0 * 1.0 + -17.064846416382252 * 0.0) / 1.0) * (vm[3] * vm[6] * cos(va[3] - va[6])) + ((--17.064846416382252 * 1.0 - 0.0 * 0.0) / 1.0) * (vm[3] * vm[6] * sin(va[3] - va[6])))) - 0.0 = 0\n",
      " (q[(4, 3, 6)] - (((-((-17.064846416382252 + 0.0)) / 1.0) * vm[3] ^ 2.0 - ((--17.064846416382252 * 1.0 - 0.0 * 0.0) / 1.0) * (vm[3] * vm[6] * cos(va[3] - va[6]))) + ((-0.0 * 1.0 + -17.064846416382252 * 0.0) / 1.0) * (vm[3] * vm[6] * sin(va[3] - va[6])))) - 0.0 = 0\n",
      " (p[(4, 6, 3)] - ((0.0 + 0.0) * vm[6] ^ 2.0 + ((-0.0 * 1.0 - -17.064846416382252 * 0.0) / 1.0) * (vm[6] * vm[3] * cos(va[6] - va[3])) + ((--17.064846416382252 * 1.0 + 0.0 * 0.0) / 1.0) * (vm[6] * vm[3] * sin(va[6] - va[3])))) - 0.0 = 0\n",
      " (q[(4, 6, 3)] - ((-((-17.064846416382252 + 0.0)) * vm[6] ^ 2.0 - ((--17.064846416382252 * 1.0 + 0.0 * 0.0) / 1.0) * (vm[6] * vm[3] * cos(va[3] - va[6]))) + ((-0.0 * 1.0 - -17.064846416382252 * 0.0) / 1.0) * (vm[6] * vm[3] * sin(va[6] - va[3])))) - 0.0 = 0\n",
      " (p[(6, 7, 8)] - (((1.6171224732461358 + 0.0) / 1.0) * vm[7] ^ 2.0 + ((-1.6171224732461358 * 1.0 + -13.697978596908444 * 0.0) / 1.0) * (vm[7] * vm[8] * cos(va[7] - va[8])) + ((--13.697978596908444 * 1.0 - 1.6171224732461358 * 0.0) / 1.0) * (vm[7] * vm[8] * sin(va[7] - va[8])))) - 0.0 = 0\n",
      " (q[(6, 7, 8)] - (((-((-13.697978596908444 + 0.0745)) / 1.0) * vm[7] ^ 2.0 - ((--13.697978596908444 * 1.0 - 1.6171224732461358 * 0.0) / 1.0) * (vm[7] * vm[8] * cos(va[7] - va[8]))) + ((-1.6171224732461358 * 1.0 + -13.697978596908444 * 0.0) / 1.0) * (vm[7] * vm[8] * sin(va[7] - va[8])))) - 0.0 = 0\n",
      " (p[(6, 8, 7)] - ((1.6171224732461358 + 0.0) * vm[8] ^ 2.0 + ((-1.6171224732461358 * 1.0 - -13.697978596908444 * 0.0) / 1.0) * (vm[8] * vm[7] * cos(va[8] - va[7])) + ((--13.697978596908444 * 1.0 + 1.6171224732461358 * 0.0) / 1.0) * (vm[8] * vm[7] * sin(va[8] - va[7])))) - 0.0 = 0\n",
      " (q[(6, 8, 7)] - ((-((-13.697978596908444 + 0.0745)) * vm[8] ^ 2.0 - ((--13.697978596908444 * 1.0 + 1.6171224732461358 * 0.0) / 1.0) * (vm[8] * vm[7] * cos(va[7] - va[8]))) + ((-1.6171224732461358 * 1.0 - -13.697978596908444 * 0.0) / 1.0) * (vm[8] * vm[7] * sin(va[8] - va[7])))) - 0.0 = 0\n",
      " (p[(7, 8, 2)] - (((0.0 + 0.0) / 1.0) * vm[8] ^ 2.0 + ((-0.0 * 1.0 + -16.0 * 0.0) / 1.0) * (vm[8] * vm[2] * cos(va[8] - va[2])) + ((--16.0 * 1.0 - 0.0 * 0.0) / 1.0) * (vm[8] * vm[2] * sin(va[8] - va[2])))) - 0.0 = 0\n",
      " (q[(7, 8, 2)] - (((-((-16.0 + 0.0)) / 1.0) * vm[8] ^ 2.0 - ((--16.0 * 1.0 - 0.0 * 0.0) / 1.0) * (vm[8] * vm[2] * cos(va[8] - va[2]))) + ((-0.0 * 1.0 + -16.0 * 0.0) / 1.0) * (vm[8] * vm[2] * sin(va[8] - va[2])))) - 0.0 = 0\n",
      " (p[(7, 2, 8)] - ((0.0 + 0.0) * vm[2] ^ 2.0 + ((-0.0 * 1.0 - -16.0 * 0.0) / 1.0) * (vm[2] * vm[8] * cos(va[2] - va[8])) + ((--16.0 * 1.0 + 0.0 * 0.0) / 1.0) * (vm[2] * vm[8] * sin(va[2] - va[8])))) - 0.0 = 0\n",
      " (q[(7, 2, 8)] - ((-((-16.0 + 0.0)) * vm[2] ^ 2.0 - ((--16.0 * 1.0 + 0.0 * 0.0) / 1.0) * (vm[2] * vm[8] * cos(va[8] - va[2]))) + ((-0.0 * 1.0 - -16.0 * 0.0) / 1.0) * (vm[2] * vm[8] * sin(va[2] - va[8])))) - 0.0 = 0\n",
      " (p[(2, 4, 5)] - (((1.9421912487147266 + 0.0) / 1.0) * vm[4] ^ 2.0 + ((-1.9421912487147266 * 1.0 + -10.510682051867931 * 0.0) / 1.0) * (vm[4] * vm[5] * cos(va[4] - va[5])) + ((--10.510682051867931 * 1.0 - 1.9421912487147266 * 0.0) / 1.0) * (vm[4] * vm[5] * sin(va[4] - va[5])))) - 0.0 = 0\n",
      " (q[(2, 4, 5)] - (((-((-10.510682051867931 + 0.079)) / 1.0) * vm[4] ^ 2.0 - ((--10.510682051867931 * 1.0 - 1.9421912487147266 * 0.0) / 1.0) * (vm[4] * vm[5] * cos(va[4] - va[5]))) + ((-1.9421912487147266 * 1.0 + -10.510682051867931 * 0.0) / 1.0) * (vm[4] * vm[5] * sin(va[4] - va[5])))) - 0.0 = 0\n",
      " (p[(2, 5, 4)] - ((1.9421912487147266 + 0.0) * vm[5] ^ 2.0 + ((-1.9421912487147266 * 1.0 - -10.510682051867931 * 0.0) / 1.0) * (vm[5] * vm[4] * cos(va[5] - va[4])) + ((--10.510682051867931 * 1.0 + 1.9421912487147266 * 0.0) / 1.0) * (vm[5] * vm[4] * sin(va[5] - va[4])))) - 0.0 = 0\n",
      " (q[(2, 5, 4)] - ((-((-10.510682051867931 + 0.079)) * vm[5] ^ 2.0 - ((--10.510682051867931 * 1.0 + 1.9421912487147266 * 0.0) / 1.0) * (vm[5] * vm[4] * cos(va[4] - va[5]))) + ((-1.9421912487147266 * 1.0 - -10.510682051867931 * 0.0) / 1.0) * (vm[5] * vm[4] * sin(va[5] - va[4])))) - 0.0 = 0\n",
      " (p[(9, 9, 4)] - (((1.36518771331058 + 0.0) / 1.0) * vm[9] ^ 2.0 + ((-1.36518771331058 * 1.0 + -11.60409556313993 * 0.0) / 1.0) * (vm[9] * vm[4] * cos(va[9] - va[4])) + ((--11.60409556313993 * 1.0 - 1.36518771331058 * 0.0) / 1.0) * (vm[9] * vm[4] * sin(va[9] - va[4])))) - 0.0 = 0\n",
      " (q[(9, 9, 4)] - (((-((-11.60409556313993 + 0.088)) / 1.0) * vm[9] ^ 2.0 - ((--11.60409556313993 * 1.0 - 1.36518771331058 * 0.0) / 1.0) * (vm[9] * vm[4] * cos(va[9] - va[4]))) + ((-1.36518771331058 * 1.0 + -11.60409556313993 * 0.0) / 1.0) * (vm[9] * vm[4] * sin(va[9] - va[4])))) - 0.0 = 0\n",
      " (p[(9, 4, 9)] - ((1.36518771331058 + 0.0) * vm[4] ^ 2.0 + ((-1.36518771331058 * 1.0 - -11.60409556313993 * 0.0) / 1.0) * (vm[4] * vm[9] * cos(va[4] - va[9])) + ((--11.60409556313993 * 1.0 + 1.36518771331058 * 0.0) / 1.0) * (vm[4] * vm[9] * sin(va[4] - va[9])))) - 0.0 = 0\n",
      " (q[(9, 4, 9)] - ((-((-11.60409556313993 + 0.088)) * vm[4] ^ 2.0 - ((--11.60409556313993 * 1.0 + 1.36518771331058 * 0.0) / 1.0) * (vm[4] * vm[9] * cos(va[9] - va[4]))) + ((-1.36518771331058 * 1.0 - -11.60409556313993 * 0.0) / 1.0) * (vm[4] * vm[9] * sin(va[4] - va[9])))) - 0.0 = 0\n",
      " (p[(8, 8, 9)] - (((1.1876043792911484 + 0.0) / 1.0) * vm[8] ^ 2.0 + ((-1.1876043792911484 * 1.0 + -5.975134533308591 * 0.0) / 1.0) * (vm[8] * vm[9] * cos(va[8] - va[9])) + ((--5.975134533308591 * 1.0 - 1.1876043792911484 * 0.0) / 1.0) * (vm[8] * vm[9] * sin(va[8] - va[9])))) - 0.0 = 0"
     ]
    },
    {
     "name": "stdout",
     "output_type": "stream",
     "text": [
      "\n",
      " (q[(8, 8, 9)] - (((-((-5.975134533308591 + 0.153)) / 1.0) * vm[8] ^ 2.0 - ((--5.975134533308591 * 1.0 - 1.1876043792911484 * 0.0) / 1.0) * (vm[8] * vm[9] * cos(va[8] - va[9]))) + ((-1.1876043792911484 * 1.0 + -5.975134533308591 * 0.0) / 1.0) * (vm[8] * vm[9] * sin(va[8] - va[9])))) - 0.0 = 0\n",
      " (p[(8, 9, 8)] - ((1.1876043792911484 + 0.0) * vm[9] ^ 2.0 + ((-1.1876043792911484 * 1.0 - -5.975134533308591 * 0.0) / 1.0) * (vm[9] * vm[8] * cos(va[9] - va[8])) + ((--5.975134533308591 * 1.0 + 1.1876043792911484 * 0.0) / 1.0) * (vm[9] * vm[8] * sin(va[9] - va[8])))) - 0.0 = 0\n",
      " (q[(8, 9, 8)] - ((-((-5.975134533308591 + 0.153)) * vm[9] ^ 2.0 - ((--5.975134533308591 * 1.0 + 1.1876043792911484 * 0.0) / 1.0) * (vm[9] * vm[8] * cos(va[8] - va[9]))) + ((-1.1876043792911484 * 1.0 - -5.975134533308591 * 0.0) / 1.0) * (vm[9] * vm[8] * sin(va[9] - va[8])))) - 0.0 = 0\n",
      " (p[(3, 5, 6)] - (((1.2820091384241148 + 0.0) / 1.0) * vm[5] ^ 2.0 + ((-1.2820091384241148 * 1.0 + -5.588244962361526 * 0.0) / 1.0) * (vm[5] * vm[6] * cos(va[5] - va[6])) + ((--5.588244962361526 * 1.0 - 1.2820091384241148 * 0.0) / 1.0) * (vm[5] * vm[6] * sin(va[5] - va[6])))) - 0.0 = 0\n",
      " (q[(3, 5, 6)] - (((-((-5.588244962361526 + 0.179)) / 1.0) * vm[5] ^ 2.0 - ((--5.588244962361526 * 1.0 - 1.2820091384241148 * 0.0) / 1.0) * (vm[5] * vm[6] * cos(va[5] - va[6]))) + ((-1.2820091384241148 * 1.0 + -5.588244962361526 * 0.0) / 1.0) * (vm[5] * vm[6] * sin(va[5] - va[6])))) - 0.0 = 0\n",
      " (p[(3, 6, 5)] - ((1.2820091384241148 + 0.0) * vm[6] ^ 2.0 + ((-1.2820091384241148 * 1.0 - -5.588244962361526 * 0.0) / 1.0) * (vm[6] * vm[5] * cos(va[6] - va[5])) + ((--5.588244962361526 * 1.0 + 1.2820091384241148 * 0.0) / 1.0) * (vm[6] * vm[5] * sin(va[6] - va[5])))) - 0.0 = 0\n",
      " (q[(3, 6, 5)] - ((-((-5.588244962361526 + 0.179)) * vm[6] ^ 2.0 - ((--5.588244962361526 * 1.0 + 1.2820091384241148 * 0.0) / 1.0) * (vm[6] * vm[5] * cos(va[5] - va[6]))) + ((-1.2820091384241148 * 1.0 - -5.588244962361526 * 0.0) / 1.0) * (vm[6] * vm[5] * sin(va[6] - va[5])))) - 0.0 = 0\n",
      " (p[(1, 1, 4)] - (((0.0 + 0.0) / 1.0) * vm[1] ^ 2.0 + ((-0.0 * 1.0 + -17.36111111111111 * 0.0) / 1.0) * (vm[1] * vm[4] * cos(va[1] - va[4])) + ((--17.36111111111111 * 1.0 - 0.0 * 0.0) / 1.0) * (vm[1] * vm[4] * sin(va[1] - va[4])))) - 0.0 = 0\n",
      " (q[(1, 1, 4)] - (((-((-17.36111111111111 + 0.0)) / 1.0) * vm[1] ^ 2.0 - ((--17.36111111111111 * 1.0 - 0.0 * 0.0) / 1.0) * (vm[1] * vm[4] * cos(va[1] - va[4]))) + ((-0.0 * 1.0 + -17.36111111111111 * 0.0) / 1.0) * (vm[1] * vm[4] * sin(va[1] - va[4])))) - 0.0 = 0\n",
      " (p[(1, 4, 1)] - ((0.0 + 0.0) * vm[4] ^ 2.0 + ((-0.0 * 1.0 - -17.36111111111111 * 0.0) / 1.0) * (vm[4] * vm[1] * cos(va[4] - va[1])) + ((--17.36111111111111 * 1.0 + 0.0 * 0.0) / 1.0) * (vm[4] * vm[1] * sin(va[4] - va[1])))) - 0.0 = 0\n",
      " (q[(1, 4, 1)] - ((-((-17.36111111111111 + 0.0)) * vm[4] ^ 2.0 - ((--17.36111111111111 * 1.0 + 0.0 * 0.0) / 1.0) * (vm[4] * vm[1] * cos(va[1] - va[4]))) + ((-0.0 * 1.0 - -17.36111111111111 * 0.0) / 1.0) * (vm[4] * vm[1] * sin(va[4] - va[1])))) - 0.0 = 0\n",
      "\n"
     ]
    }
   ],
   "source": [
    "println(model)"
   ]
  },
  {
   "attachments": {},
   "cell_type": "markdown",
   "metadata": {},
   "source": [
    "# Model (Branch Flow Power rectangular voltage)\n",
    "\n"
   ]
  },
  {
   "cell_type": "code",
   "execution_count": 16,
   "metadata": {},
   "outputs": [],
   "source": [
    "model = Model(Ipopt.Optimizer)\n",
    "\n",
    "set_optimizer_attribute(model, \"print_level\", 0)"
   ]
  },
  {
   "cell_type": "code",
   "execution_count": 17,
   "metadata": {},
   "outputs": [
    {
     "data": {
      "text/plain": [
       "1-dimensional DenseAxisArray{VariableRef,1,...} with index sets:\n",
       "    Dimension 1, [(5, 3, 4), (4, 2, 3), (6, 4, 5), (2, 1, 4), (3, 1, 5), (1, 1, 2), (5, 4, 3), (4, 3, 2), (6, 5, 4), (2, 4, 1), (3, 5, 1), (1, 2, 1)]\n",
       "And data, a 12-element Vector{VariableRef}:\n",
       " q[(5, 3, 4)]\n",
       " q[(4, 2, 3)]\n",
       " q[(6, 4, 5)]\n",
       " q[(2, 1, 4)]\n",
       " q[(3, 1, 5)]\n",
       " q[(1, 1, 2)]\n",
       " q[(5, 4, 3)]\n",
       " q[(4, 3, 2)]\n",
       " q[(6, 5, 4)]\n",
       " q[(2, 4, 1)]\n",
       " q[(3, 5, 1)]\n",
       " q[(1, 2, 1)]"
      ]
     },
     "metadata": {},
     "output_type": "display_data"
    }
   ],
   "source": [
    "@variable(model, vr[i in keys(ref[:bus])])\n",
    "@variable(model, vi[i in keys(ref[:bus])])\n",
    "@variable(model, ref[:gen][i][\"pmin\"] <= pg[i in keys(ref[:gen])] <= ref[:gen][i][\"pmax\"])\n",
    "@variable(model, ref[:gen][i][\"qmin\"] <= qg[i in keys(ref[:gen])] <= ref[:gen][i][\"qmax\"])\n",
    "\n",
    "@variable(model, -ref[:branch][l][\"rate_a\"] <= p[(l,i,j) in ref[:arcs]] <= ref[:branch][l][\"rate_a\"])\n",
    "@variable(model, -ref[:branch][l][\"rate_a\"] <= q[(l,i,j) in ref[:arcs]] <= ref[:branch][l][\"rate_a\"])"
   ]
  },
  {
   "cell_type": "code",
   "execution_count": 18,
   "metadata": {},
   "outputs": [
    {
     "data": {
      "text/latex": [
       "$$ 1000 pg_{5} + 4000 pg_{4} + 1500 pg_{2} + 3000 pg_{3} + 1400 pg_{1} $$"
      ],
      "text/plain": [
       "1000 pg[5] + 4000 pg[4] + 1500 pg[2] + 3000 pg[3] + 1400 pg[1]"
      ]
     },
     "metadata": {},
     "output_type": "display_data"
    }
   ],
   "source": [
    "@objective(model, Min,\n",
    "    sum(gen[\"cost\"][1]*pg[i]^2 + gen[\"cost\"][2]*pg[i] + gen[\"cost\"][3] for (i,gen) in ref[:gen])\n",
    ")"
   ]
  },
  {
   "cell_type": "code",
   "execution_count": 22,
   "metadata": {},
   "outputs": [],
   "source": [
    "for (i, bus) in ref[:bus]\n",
    "    @constraint(model, bus[\"vmin\"]^2 <= vr[i]^2 + vi[i]^2)\n",
    "    @constraint(model, vr[i]^2 + vi[i]^2 <= bus[\"vmax\"]^2)\n",
    "end"
   ]
  },
  {
   "cell_type": "code",
   "execution_count": 19,
   "metadata": {},
   "outputs": [],
   "source": [
    "for (i,bus) in ref[:bus]\n",
    "    # Build a list of the loads and shunt elements connected to the bus i\n",
    "    bus_loads = [ref[:load][l] for l in ref[:bus_loads][i]]\n",
    "    bus_shunts = [ref[:shunt][s] for s in ref[:bus_shunts][i]]\n",
    "\n",
    "    vm = vr[i]^2 + vi[i]^2\n",
    "    # Active power balance at node i\n",
    "    @constraint(model, \n",
    "        sum(pg[g] for g in ref[:bus_gens][i]) - sum(load[\"pd\"] for load in bus_loads) ==\n",
    "        sum(p[a] for a in ref[:bus_arcs][i])  + sum(shunt[\"gs\"] for shunt in bus_shunts) * vm\n",
    "    )\n",
    "\n",
    "    @constraint(model,\n",
    "        sum(qg[g] for g in ref[:bus_gens][i]) - sum(load[\"pd\"] for load in bus_loads) == \n",
    "        sum(q[a] for a in ref[:bus_arcs][i]) - sum(shunt[\"bs\"] for shunt in bus_shunts) * vm\n",
    "    )\n",
    "end"
   ]
  },
  {
   "cell_type": "code",
   "execution_count": 27,
   "metadata": {},
   "outputs": [
    {
     "ename": "BoundsError",
     "evalue": "BoundsError: attempt to access 2-element Vector{Any} at index [3]",
     "output_type": "error",
     "traceback": [
      "BoundsError: attempt to access 2-element Vector{Any} at index [3]\n",
      "\n",
      "Stacktrace:\n",
      " [1] getindex\n",
      "   @ ./array.jl:924 [inlined]\n",
      " [2] _expr_to_constraint(expr::Expr)\n",
      "   @ JuMP ~/.julia/packages/JuMP/Xw2ck/src/nlp.jl:408\n",
      " [3] add_nonlinear_constraint(model::Model, ex::Expr)\n",
      "   @ JuMP ~/.julia/packages/JuMP/Xw2ck/src/nlp.jl:440\n",
      " [4] macro expansion\n",
      "   @ ~/.julia/packages/JuMP/Xw2ck/src/macros.jl:2437 [inlined]\n",
      " [5] top-level scope\n",
      "   @ ~/xjx/SRIBD/ACOPF/code/PowerModelsAnnex.jl/src/model/Untitled-1.ipynb:34"
     ]
    }
   ],
   "source": [
    "for (i, branch) in ref[:branch]\n",
    "    f_idx = (i, branch[\"f_bus\"], branch[\"t_bus\"])\n",
    "    t_idx = (i, branch[\"t_bus\"], branch[\"f_bus\"])\n",
    "\n",
    "    p_fr = p[f_idx]\n",
    "    q_fr = q[f_idx]\n",
    "    p_to = p[t_idx]\n",
    "    q_to = q[t_idx]\n",
    "\n",
    "    vr_fr = vr[branch[\"f_bus\"]]\n",
    "    vr_to = vr[branch[\"t_bus\"]]\n",
    "    vi_fr = vi[branch[\"f_bus\"]]\n",
    "    vi_to = vi[branch[\"t_bus\"]]\n",
    "\n",
    "    g, b = PowerModels.calc_branch_y(branch)\n",
    "    tr, ti = PowerModels.calc_branch_t(branch)\n",
    "    g_fr = branch[\"g_fr\"]\n",
    "    b_fr = branch[\"b_fr\"]\n",
    "    g_to = branch[\"g_to\"]\n",
    "    b_to = branch[\"b_to\"]\n",
    "    tm = branch[\"tap\"]^2 \n",
    "\n",
    "    g_net_fr = (g+g_fr)/tm\n",
    "    b_net_fr = (b+b_fr)/tm\n",
    "    g_net_to = (g+g_to)*vm\n",
    "    b_net_to = (b+b_to)*vm\n",
    "\n",
    "    G_fr = (-g*tr+b*ti)/tm\n",
    "    B_fr = (-b*tr-g*ti)/tm\n",
    "\n",
    "    G_to = (-g*tr-b*ti)/tm\n",
    "    B_to = (-b*tr+g*ti)/tm\n",
    "\n",
    "    @NLconstraint(model, p_fr = g_net_fr * (vr_fr^2 + vi_fr^2) + G_fr * (vr_fr * vr_to + vi_fr * vi_to) + B_fr * (vi_fr * vr_to - vr_fr * vi_to))\n",
    "    @NLconstraint(model, q_fr = -b_net_fr * (vr_fr^2 + vi_fr^2) + G_fr * (vi_fr * vr_to - vr_fr * vi_to) - B_fr * (vr_fr * vr_to + vi_fr * vi_to))\n",
    "\n",
    "    @NLconstraint(model, p_to = g_net_to * (vr_to^2 + vi_to^2) + G_to * (vr_to * vr_fr + vi_to * vi_fr) + B_to * (vi_to * vr_fr - vt_to * vi_fr))\n",
    "    @NLconstraint(model, q_to = -b_net_to * (vr_to^2 + vi_to^2) + G_to * (vi_to * vr_fr - vr_to * vi_fr) - B_to * (vr_to * vr_fr + vi_to * vi_fr))\n",
    "\n",
    "    # Apparent power limit, from side and to side\n",
    "    @constraint(model, p_fr^2 + q_fr^2 <= branch[\"rate_a\"]^2)\n",
    "    @constraint(model, p_to^2 + q_to^2 <= branch[\"rate_a\"]^2) \n",
    "end"
   ]
  },
  {
   "cell_type": "code",
   "execution_count": null,
   "metadata": {},
   "outputs": [],
   "source": []
  }
 ],
 "metadata": {
  "kernelspec": {
   "display_name": "Julia 1.8.5",
   "language": "julia",
   "name": "julia-1.8"
  },
  "language_info": {
   "file_extension": ".jl",
   "mimetype": "application/julia",
   "name": "julia",
   "version": "1.8.5"
  },
  "orig_nbformat": 4
 },
 "nbformat": 4,
 "nbformat_minor": 2
}
